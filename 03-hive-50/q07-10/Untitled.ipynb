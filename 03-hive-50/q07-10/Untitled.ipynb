{
 "cells": [
  {
   "cell_type": "code",
   "execution_count": 17,
   "metadata": {},
   "outputs": [
    {
     "name": "stdout",
     "output_type": "stream",
     "text": [
      "The bigdata extension is already loaded. To reload it, use:\n",
      "  %reload_ext bigdata\n"
     ]
    }
   ],
   "source": [
    "\n",
    "%load_ext bigdata"
   ]
  },
  {
   "cell_type": "code",
   "execution_count": 18,
   "metadata": {},
   "outputs": [],
   "source": [
    "%hive_start"
   ]
  },
  {
   "cell_type": "code",
   "execution_count": 19,
   "metadata": {},
   "outputs": [],
   "source": [
    "\n",
    "%timeout 300"
   ]
  },
  {
   "cell_type": "code",
   "execution_count": 20,
   "metadata": {},
   "outputs": [
    {
     "name": "stdout",
     "output_type": "stream",
     "text": [
      "Found 3 items\n",
      "drwxrwx---   - root supergroup          0 2020-02-11 01:46 /tmp/hadoop-yarn\n",
      "drwxrwxrwx   - root supergroup          0 2020-02-11 01:54 /tmp/hive\n",
      "drwxr-xr-x   - root supergroup          0 2020-02-11 02:22 /tmp/hivep7\n"
     ]
    }
   ],
   "source": [
    "!hdfs dfs -ls /tmp"
   ]
  },
  {
   "cell_type": "code",
   "execution_count": 21,
   "metadata": {},
   "outputs": [
    {
     "name": "stdout",
     "output_type": "stream",
     "text": [
      "mkdir: `/tmp/hivep7': File exists\n"
     ]
    }
   ],
   "source": [
    "!hdfs dfs -mkdir /tmp/hivep7"
   ]
  },
  {
   "cell_type": "code",
   "execution_count": 22,
   "metadata": {},
   "outputs": [
    {
     "name": "stdout",
     "output_type": "stream",
     "text": [
      "Found 3 items\n",
      "drwxrwx---   - root supergroup          0 2020-02-11 01:46 /tmp/hadoop-yarn\n",
      "drwxrwxrwx   - root supergroup          0 2020-02-11 01:54 /tmp/hive\n",
      "drwxr-xr-x   - root supergroup          0 2020-02-11 02:22 /tmp/hivep7\n"
     ]
    }
   ],
   "source": [
    "!hdfs dfs -ls /tmp/"
   ]
  },
  {
   "cell_type": "code",
   "execution_count": 23,
   "metadata": {},
   "outputs": [],
   "source": [
    "!hdfs dfs -copyFromLocal tbl0.csv /tmp/hivep7/"
   ]
  },
  {
   "cell_type": "code",
   "execution_count": 24,
   "metadata": {},
   "outputs": [],
   "source": [
    "!hdfs dfs -copyFromLocal tbl1.csv /tmp/hivep7/"
   ]
  },
  {
   "cell_type": "code",
   "execution_count": 25,
   "metadata": {},
   "outputs": [
    {
     "name": "stdout",
     "output_type": "stream",
     "text": [
      "Found 3 items\n",
      "-rwxr-xr-x   1 root supergroup         29 2020-02-11 02:22 /tmp/hivep7/000000_0\n",
      "-rw-r--r--   1 root supergroup        397 2020-02-11 02:27 /tmp/hivep7/tbl0.csv\n",
      "-rw-r--r--   1 root supergroup        282 2020-02-11 02:27 /tmp/hivep7/tbl1.csv\n"
     ]
    }
   ],
   "source": [
    "## Verifica que los archivos esten copiados\n",
    "## en el hdfs\n",
    "##\n",
    "!hdfs dfs -ls /tmp/hivep7"
   ]
  },
  {
   "cell_type": "code",
   "execution_count": 26,
   "metadata": {},
   "outputs": [
    {
     "name": "stdout",
     "output_type": "stream",
     "text": [
      "DROP TABLE IF EXISTS tbl0;\n",
      "OK\n",
      "Time taken: 21.648 seconds\n",
      "CREATE TABLE tbl0 (\n",
      "    c1 INT,\n",
      "    c2 STRING,\n",
      "    c3 INT,\n",
      "    c4 DATE,\n",
      "    c5 ARRAY<CHAR(1)>, \n",
      "    c6 MAP<STRING, INT>\n",
      ")\n",
      "ROW FORMAT DELIMITED \n",
      "FIELDS TERMINATED BY ','\n",
      "COLLECTION ITEMS TERMINATED BY ':'\n",
      "MAP KEYS TERMINATED BY '#'\n",
      "LINES TERMINATED BY '\\n';\n",
      "OK\n",
      "Time taken: 1.334 seconds\n",
      "LOAD DATA LOCAL INPATH 'tbl0.csv' INTO TABLE tbl0;\n",
      "Loading data to table default.tbl0\n",
      "OK\n",
      "Time taken: 2.506 seconds\n"
     ]
    }
   ],
   "source": [
    "%%hive\n",
    "DROP TABLE IF EXISTS tbl0;\n",
    "CREATE TABLE tbl0 (\n",
    "    c1 INT,\n",
    "    c2 STRING,\n",
    "    c3 INT,\n",
    "    c4 DATE,\n",
    "    c5 ARRAY<CHAR(1)>, \n",
    "    c6 MAP<STRING, INT>\n",
    ")\n",
    "ROW FORMAT DELIMITED \n",
    "FIELDS TERMINATED BY ','\n",
    "COLLECTION ITEMS TERMINATED BY ':'\n",
    "MAP KEYS TERMINATED BY '#'\n",
    "LINES TERMINATED BY '\\n';\n",
    "LOAD DATA LOCAL INPATH 'tbl0.csv' INTO TABLE tbl0;"
   ]
  },
  {
   "cell_type": "code",
   "execution_count": 27,
   "metadata": {},
   "outputs": [
    {
     "name": "stdout",
     "output_type": "stream",
     "text": [
      "DROP TABLE IF EXISTS pt7;\n",
      "OK\n",
      "Time taken: 0.079 seconds\n",
      "CREATE TABLE pt7\n",
      "AS\n",
      "SELECT c2, collect_list((c1)) AS lista\n",
      "FROM tbl0\n",
      "GROUP BY c2;\n",
      "WARNING: Hive-on-MR is deprecated in Hive 2 and may not be available in the future versions. Consider using a different execution engine (i.e. spark, tez) or using Hive 1.X releases.\n",
      "Query ID = root_20200211022832_527c0e8d-bb28-46e3-b446-ae89e24cbfba\n",
      "Total jobs = 1\n",
      "Launching Job 1 out of 1\n",
      "Number of reduce tasks not specified. Estimated from input data size: 1\n",
      "In order to change the average load for a reducer (in bytes):\n",
      "  set hive.exec.reducers.bytes.per.reducer=<number>\n",
      "In order to limit the maximum number of reducers:\n",
      "  set hive.exec.reducers.max=<number>\n",
      "In order to set a constant number of reducers:\n",
      "  set mapreduce.job.reduces=<number>\n",
      "Starting Job = job_1581385522257_0003, Tracking URL = http://80b7b573c52f:8088/proxy/application_1581385522257_0003/\n",
      "Kill Command = /usr/local/hadoop/bin/hadoop job  -kill job_1581385522257_0003\n",
      "Hadoop job information for Stage-1: number of mappers: 1; number of reducers: 1\n",
      "2020-02-11 02:28:56,693 Stage-1 map = 0%,  reduce = 0%\n",
      "2020-02-11 02:29:04,996 Stage-1 map = 100%,  reduce = 0%, Cumulative CPU 3.08 sec\n",
      "2020-02-11 02:29:15,575 Stage-1 map = 100%,  reduce = 100%, Cumulative CPU 6.58 sec\n",
      "MapReduce Total cumulative CPU time: 6 seconds 580 msec\n",
      "Ended Job = job_1581385522257_0003\n",
      "Moving data to directory hdfs://0.0.0.0:9000/user/hive/warehouse/pt7\n",
      "MapReduce Jobs Launched: \n",
      "Stage-Stage-1: Map: 1  Reduce: 1   Cumulative CPU: 6.58 sec   HDFS Read: 9739 HDFS Write: 96 SUCCESS\n",
      "Total MapReduce CPU Time Spent: 6 seconds 580 msec\n",
      "OK\n",
      "Time taken: 46.996 seconds\n",
      "INSERT OVERWRITE DIRECTORY '/tmp/hivep7'\n",
      "ROW FORMAT DELIMITED FIELDS TERMINATED BY ','\n",
      "COLLECTION ITEMS TERMINATED BY ':'\n",
      "SELECT * FROM pt7;\n",
      "WARNING: Hive-on-MR is deprecated in Hive 2 and may not be available in the future versions. Consider using a different execution engine (i.e. spark, tez) or using Hive 1.X releases.\n",
      "Query ID = root_20200211022919_200395f2-702d-406c-8dd0-95597e668688\n",
      "Total jobs = 3\n",
      "Launching Job 1 out of 3\n",
      "Number of reduce tasks is set to 0 since there's no reduce operator\n",
      "Starting Job = job_1581385522257_0004, Tracking URL = http://80b7b573c52f:8088/proxy/application_1581385522257_0004/\n",
      "Kill Command = /usr/local/hadoop/bin/hadoop job  -kill job_1581385522257_0004\n",
      "Hadoop job information for Stage-1: number of mappers: 1; number of reducers: 0\n",
      "2020-02-11 02:29:35,336 Stage-1 map = 0%,  reduce = 0%\n",
      "2020-02-11 02:29:43,702 Stage-1 map = 100%,  reduce = 0%, Cumulative CPU 2.8 sec\n",
      "MapReduce Total cumulative CPU time: 2 seconds 800 msec\n",
      "Ended Job = job_1581385522257_0004\n",
      "Stage-3 is selected by condition resolver.\n",
      "Stage-2 is filtered out by condition resolver.\n",
      "Stage-4 is filtered out by condition resolver.\n",
      "Moving data to directory hdfs://0.0.0.0:9000/tmp/hivep7/.hive-staging_hive_2020-02-11_02-29-19_539_6741390847483039639-1/-ext-10000\n",
      "Moving data to directory /tmp/hivep7\n",
      "MapReduce Jobs Launched: \n",
      "Stage-Stage-1: Map: 1   Cumulative CPU: 2.8 sec   HDFS Read: 3504 HDFS Write: 29 SUCCESS\n",
      "Total MapReduce CPU Time Spent: 2 seconds 800 msec\n",
      "OK\n",
      "Time taken: 26.762 seconds\n"
     ]
    }
   ],
   "source": [
    "%%hive\n",
    "DROP TABLE IF EXISTS pt7;\n",
    "CREATE TABLE pt7\n",
    "AS\n",
    "SELECT c2, collect_list((c1)) AS lista\n",
    "FROM tbl0\n",
    "GROUP BY c2;\n",
    "\n",
    "INSERT OVERWRITE DIRECTORY '/tmp/hivep7'\n",
    "ROW FORMAT DELIMITED FIELDS TERMINATED BY ','\n",
    "COLLECTION ITEMS TERMINATED BY ':'\n",
    "SELECT * FROM pt7;"
   ]
  },
  {
   "cell_type": "code",
   "execution_count": 28,
   "metadata": {},
   "outputs": [
    {
     "name": "stdout",
     "output_type": "stream",
     "text": [
      "A,6\n",
      "B,7:9:10\n",
      "C,2:5:8\n",
      "D,1:3:4\n"
     ]
    }
   ],
   "source": [
    "!hdfs dfs -cat /tmp/hivep7/000000_0 "
   ]
  },
  {
   "cell_type": "code",
   "execution_count": 30,
   "metadata": {},
   "outputs": [],
   "source": [
    "!hdfs dfs -copyToLocal /tmp/hivep7/000000_0 output;"
   ]
  },
  {
   "cell_type": "code",
   "execution_count": 31,
   "metadata": {},
   "outputs": [
    {
     "name": "stdout",
     "output_type": "stream",
     "text": [
      "DROP TABLE pt7;\n",
      "OK\n",
      "Time taken: 0.41 seconds\n",
      "%hive_quit\n"
     ]
    }
   ],
   "source": [
    "%%hive\n",
    "DROP TABLE pt7;\n",
    "%hive_quit"
   ]
  },
  {
   "cell_type": "code",
   "execution_count": null,
   "metadata": {},
   "outputs": [],
   "source": []
  }
 ],
 "metadata": {
  "kernelspec": {
   "display_name": "Python 3",
   "language": "python",
   "name": "python3"
  },
  "language_info": {
   "codemirror_mode": {
    "name": "ipython",
    "version": 3
   },
   "file_extension": ".py",
   "mimetype": "text/x-python",
   "name": "python",
   "nbconvert_exporter": "python",
   "pygments_lexer": "ipython3",
   "version": "3.6.9"
  }
 },
 "nbformat": 4,
 "nbformat_minor": 4
}
