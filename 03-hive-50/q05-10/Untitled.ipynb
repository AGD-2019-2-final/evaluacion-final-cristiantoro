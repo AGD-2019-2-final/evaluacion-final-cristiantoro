{
 "cells": [
  {
   "cell_type": "code",
   "execution_count": 25,
   "metadata": {},
   "outputs": [
    {
     "name": "stdout",
     "output_type": "stream",
     "text": [
      "The bigdata extension is already loaded. To reload it, use:\n",
      "  %reload_ext bigdata\n"
     ]
    }
   ],
   "source": [
    "%load_ext bigdata"
   ]
  },
  {
   "cell_type": "code",
   "execution_count": 26,
   "metadata": {},
   "outputs": [],
   "source": [
    "%hive_start"
   ]
  },
  {
   "cell_type": "code",
   "execution_count": 27,
   "metadata": {},
   "outputs": [],
   "source": [
    "%timeout 300"
   ]
  },
  {
   "cell_type": "code",
   "execution_count": 28,
   "metadata": {},
   "outputs": [
    {
     "name": "stdout",
     "output_type": "stream",
     "text": [
      "Found 4 items\n",
      "drwxrwx---   - root supergroup          0 2020-02-10 04:30 /tmp/hadoop-yarn\n",
      "drwxrwxrwx   - root supergroup          0 2020-02-10 04:37 /tmp/hive\n",
      "drwxrwxrwx   - root supergroup          0 2020-02-10 05:07 /tmp/hivep4\n",
      "drwxr-xr-x   - root supergroup          0 2020-02-10 04:38 /tmp/hivep5\n"
     ]
    }
   ],
   "source": [
    "!hdfs dfs -ls /tmp"
   ]
  },
  {
   "cell_type": "code",
   "execution_count": 29,
   "metadata": {},
   "outputs": [
    {
     "name": "stdout",
     "output_type": "stream",
     "text": [
      "mkdir: `/tmp/hivep5': File exists\n"
     ]
    }
   ],
   "source": [
    "!hdfs dfs -mkdir /tmp/hivep5"
   ]
  },
  {
   "cell_type": "code",
   "execution_count": 30,
   "metadata": {},
   "outputs": [
    {
     "name": "stdout",
     "output_type": "stream",
     "text": [
      "Found 4 items\n",
      "drwxrwx---   - root supergroup          0 2020-02-10 04:30 /tmp/hadoop-yarn\n",
      "drwxrwxrwx   - root supergroup          0 2020-02-10 04:37 /tmp/hive\n",
      "drwxrwxrwx   - root supergroup          0 2020-02-10 05:07 /tmp/hivep4\n",
      "drwxr-xr-x   - root supergroup          0 2020-02-10 04:38 /tmp/hivep5\n"
     ]
    }
   ],
   "source": [
    "!hdfs dfs -ls /tmp/"
   ]
  },
  {
   "cell_type": "code",
   "execution_count": 31,
   "metadata": {},
   "outputs": [
    {
     "name": "stdout",
     "output_type": "stream",
     "text": [
      "copyFromLocal: `/tmp/hivep5/tbl0.csv': File exists\n"
     ]
    }
   ],
   "source": [
    "!hdfs dfs -copyFromLocal tbl0.csv /tmp/hivep5/"
   ]
  },
  {
   "cell_type": "code",
   "execution_count": 32,
   "metadata": {},
   "outputs": [
    {
     "name": "stdout",
     "output_type": "stream",
     "text": [
      "copyFromLocal: `/tmp/hivep5/tbl1.csv': File exists\n"
     ]
    }
   ],
   "source": [
    "!hdfs dfs -copyFromLocal tbl1.csv /tmp/hivep5/"
   ]
  },
  {
   "cell_type": "code",
   "execution_count": 33,
   "metadata": {},
   "outputs": [
    {
     "name": "stdout",
     "output_type": "stream",
     "text": [
      "DROP TABLE IF EXISTS tbl0;\n",
      "OK\n",
      "Time taken: 8.895 seconds\n",
      "CREATE TABLE tbl0 (\n",
      "    c1 INT,\n",
      "    c2 STRING,\n",
      "    c3 INT,\n",
      "    c4 DATE,\n",
      "    c5 ARRAY<CHAR(1)>, \n",
      "    c6 MAP<STRING, INT>\n",
      ")\n",
      "ROW FORMAT DELIMITED \n",
      "FIELDS TERMINATED BY ','\n",
      "COLLECTION ITEMS TERMINATED BY ':'\n",
      "MAP KEYS TERMINATED BY '#'\n",
      "LINES TERMINATED BY '\\n';\n",
      "OK\n",
      "Time taken: 0.601 seconds\n",
      "LOAD DATA LOCAL INPATH 'tbl0.csv' INTO TABLE tbl0;\n",
      "Loading data to table default.tbl0\n",
      "OK\n",
      "Time taken: 1.07 seconds\n"
     ]
    }
   ],
   "source": [
    "%%hive\n",
    "DROP TABLE IF EXISTS tbl0;\n",
    "CREATE TABLE tbl0 (\n",
    "    c1 INT,\n",
    "    c2 STRING,\n",
    "    c3 INT,\n",
    "    c4 DATE,\n",
    "    c5 ARRAY<CHAR(1)>, \n",
    "    c6 MAP<STRING, INT>\n",
    ")\n",
    "ROW FORMAT DELIMITED \n",
    "FIELDS TERMINATED BY ','\n",
    "COLLECTION ITEMS TERMINATED BY ':'\n",
    "MAP KEYS TERMINATED BY '#'\n",
    "LINES TERMINATED BY '\\n';\n",
    "LOAD DATA LOCAL INPATH 'tbl0.csv' INTO TABLE tbl0;"
   ]
  },
  {
   "cell_type": "code",
   "execution_count": 36,
   "metadata": {},
   "outputs": [
    {
     "name": "stdout",
     "output_type": "stream",
     "text": [
      "SELECT * FROM pt51;\n",
      "WARNING: Hive-on-MR is deprecated in Hive 2 and may not be available in the future versions. Consider using a different execution engine (i.e. spark, tez) or using Hive 1.X releases.\n",
      "Query ID = root_20200210051127_59db6624-f87a-40c0-81e8-8bc8005742ec\n",
      "Total jobs = 3\n",
      "Launching Job 1 out of 3\n",
      "Number of reduce tasks is set to 0 since there's no reduce operator\n",
      "Starting Job = job_1581309005799_0016, Tracking URL = http://b4ecbf811125:8088/proxy/application_1581309005799_0016/\n",
      "Kill Command = /usr/local/hadoop/bin/hadoop job  -kill job_1581309005799_0016\n",
      "Hadoop job information for Stage-1: number of mappers: 1; number of reducers: 0\n",
      "2020-02-10 05:11:37,229 Stage-1 map = 0%,  reduce = 0%\n",
      "2020-02-10 05:11:42,704 Stage-1 map = 100%,  reduce = 0%, Cumulative CPU 1.53 sec\n",
      "MapReduce Total cumulative CPU time: 1 seconds 530 msec\n",
      "Ended Job = job_1581309005799_0016\n",
      "Stage-3 is selected by condition resolver.\n",
      "Stage-2 is filtered out by condition resolver.\n",
      "Stage-4 is filtered out by condition resolver.\n",
      "Moving data to directory hdfs://0.0.0.0:9000/tmp/hivep5/.hive-staging_hive_2020-02-10_05-11-27_676_9081366807505229275-1/-ext-10000\n",
      "Moving data to directory /tmp/hivep5\n",
      "MapReduce Jobs Launched: \n",
      "Stage-Stage-1: Map: 1   Cumulative CPU: 1.53 sec   HDFS Read: 3747 HDFS Write: 180 SUCCESS\n",
      "Total MapReduce CPU Time Spent: 1 seconds 530 msec\n",
      "OK\n",
      "Time taken: 16.154 seconds\n",
      "DROP TABLE IF EXISTS pt5;\n",
      "OK\n",
      "Time taken: 0.176 seconds\n",
      "CREATE TABLE pt5\n",
      "AS\n",
      "SELECT YEAR(c4) as ano, c0\n",
      "FROM tbl0 LATERAL VIEW explode(c5) adTable AS c0  \n",
      ";\n",
      "WARNING: Hive-on-MR is deprecated in Hive 2 and may not be available in the future versions. Consider using a different execution engine (i.e. spark, tez) or using Hive 1.X releases.\n",
      "Query ID = root_20200210051252_26130245-f7e6-4f66-8743-a018f0bfeb29\n",
      "Total jobs = 3\n",
      "Launching Job 1 out of 3\n",
      "Number of reduce tasks is set to 0 since there's no reduce operator\n",
      "Starting Job = job_1581309005799_0017, Tracking URL = http://b4ecbf811125:8088/proxy/application_1581309005799_0017/\n",
      "Kill Command = /usr/local/hadoop/bin/hadoop job  -kill job_1581309005799_0017\n",
      "Hadoop job information for Stage-1: number of mappers: 1; number of reducers: 0\n",
      "2020-02-10 05:12:59,692 Stage-1 map = 0%,  reduce = 0%\n",
      "2020-02-10 05:13:05,087 Stage-1 map = 100%,  reduce = 0%, Cumulative CPU 2.27 sec\n",
      "MapReduce Total cumulative CPU time: 2 seconds 270 msec\n",
      "Ended Job = job_1581309005799_0017\n",
      "Stage-4 is selected by condition resolver.\n",
      "Stage-3 is filtered out by condition resolver.\n",
      "Stage-5 is filtered out by condition resolver.\n",
      "Moving data to directory hdfs://0.0.0.0:9000/user/hive/warehouse/.hive-staging_hive_2020-02-10_05-12-52_697_3573752948966525662-1/-ext-10001\n",
      "Moving data to directory hdfs://0.0.0.0:9000/user/hive/warehouse/pt5\n",
      "MapReduce Jobs Launched: \n",
      "Stage-Stage-1: Map: 1   Cumulative CPU: 2.27 sec   HDFS Read: 6139 HDFS Write: 306 SUCCESS\n",
      "Total MapReduce CPU Time Spent: 2 seconds 270 msec\n",
      "OK\n",
      "Time taken: 13.903 seconds\n",
      "DROP TABLE IF EXISTS pt51\n",
      "CREATE TABLE pt51\n",
      "AS\n",
      "SELECT ano, c0, count(1)\n",
      "FROM pt5 \n",
      "group by ano, c0\n",
      ";\n",
      "NoViableAltException(70@[213:1: tableName : (db= identifier DOT tab= identifier -> ^( TOK_TABNAME $db $tab) |tab= identifier -> ^( TOK_TABNAME $tab) );])\n",
      "\tat org.antlr.runtime.DFA.noViableAlt(DFA.java:158)\n",
      "\tat org.antlr.runtime.DFA.predict(DFA.java:116)\n",
      "\tat org.apache.hadoop.hive.ql.parse.HiveParser_FromClauseParser.tableName(HiveParser_FromClauseParser.java:5041)\n",
      "\tat org.apache.hadoop.hive.ql.parse.HiveParser.tableName(HiveParser.java:41966)\n",
      "\tat org.apache.hadoop.hive.ql.parse.HiveParser.dropTableStatement(HiveParser.java:7781)\n",
      "\tat org.apache.hadoop.hive.ql.parse.HiveParser.ddlStatement(HiveParser.java:3822)\n",
      "\tat org.apache.hadoop.hive.ql.parse.HiveParser.execStatement(HiveParser.java:2382)\n",
      "\tat org.apache.hadoop.hive.ql.parse.HiveParser.statement(HiveParser.java:1333)\n",
      "\tat org.apache.hadoop.hive.ql.parse.ParseDriver.parse(ParseDriver.java:208)\n",
      "\tat org.apache.hadoop.hive.ql.parse.ParseUtils.parse(ParseUtils.java:77)\n",
      "\tat org.apache.hadoop.hive.ql.parse.ParseUtils.parse(ParseUtils.java:70)\n",
      "\tat org.apache.hadoop.hive.ql.Driver.compile(Driver.java:468)\n",
      "\tat org.apache.hadoop.hive.ql.Driver.compileInternal(Driver.java:1317)\n",
      "\tat org.apache.hadoop.hive.ql.Driver.runInternal(Driver.java:1457)\n",
      "\tat org.apache.hadoop.hive.ql.Driver.run(Driver.java:1237)\n",
      "\tat org.apache.hadoop.hive.ql.Driver.run(Driver.java:1227)\n",
      "\tat org.apache.hadoop.hive.cli.CliDriver.processLocalCmd(CliDriver.java:233)\n",
      "\tat org.apache.hadoop.hive.cli.CliDriver.processCmd(CliDriver.java:184)\n",
      "\tat org.apache.hadoop.hive.cli.CliDriver.processLine(CliDriver.java:403)\n",
      "\tat org.apache.hadoop.hive.cli.CliDriver.executeDriver(CliDriver.java:821)\n",
      "\tat org.apache.hadoop.hive.cli.CliDriver.run(CliDriver.java:759)\n",
      "\tat org.apache.hadoop.hive.cli.CliDriver.main(CliDriver.java:686)\n",
      "\tat sun.reflect.NativeMethodAccessorImpl.invoke0(Native Method)\n",
      "\tat sun.reflect.NativeMethodAccessorImpl.invoke(NativeMethodAccessorImpl.java:62)\n",
      "\tat sun.reflect.DelegatingMethodAccessorImpl.invoke(DelegatingMethodAccessorImpl.java:43)\n",
      "\tat java.lang.reflect.Method.invoke(Method.java:498)\n",
      "\tat org.apache.hadoop.util.RunJar.run(RunJar.java:239)\n",
      "\tat org.apache.hadoop.util.RunJar.main(RunJar.java:153)\n",
      "FAILED: ParseException line 2:0 cannot recognize input near 'pt51' 'CREATE' 'TABLE' in table name\n",
      "INSERT OVERWRITE DIRECTORY '/tmp/hivep5'\n",
      "ROW FORMAT DELIMITED FIELDS TERMINATED BY ','\n"
     ]
    }
   ],
   "source": [
    "%%hive\n",
    "DROP TABLE IF EXISTS pt5;\n",
    "CREATE TABLE pt5\n",
    "AS\n",
    "SELECT YEAR(c4) as ano, c0\n",
    "FROM tbl0 LATERAL VIEW explode(c5) adTable AS c0  \n",
    "\n",
    ";\n",
    "DROP TABLE IF EXISTS pt51\n",
    "CREATE TABLE pt51\n",
    "AS\n",
    "SELECT ano, c0, count(1)\n",
    "FROM pt5 \n",
    "group by ano, c0\n",
    "\n",
    ";\n",
    "\n",
    "\n",
    "INSERT OVERWRITE DIRECTORY '/tmp/hivep5'\n",
    "ROW FORMAT DELIMITED FIELDS TERMINATED BY ','\n",
    "SELECT * FROM pt51;"
   ]
  },
  {
   "cell_type": "code",
   "execution_count": 24,
   "metadata": {},
   "outputs": [
    {
     "name": "stdout",
     "output_type": "stream",
     "text": [
      "cat: `/tmp/hivep5/000000_0': No such file or directory\n"
     ]
    }
   ],
   "source": [
    "!hdfs dfs -cat /tmp/hivep5/000000_0 "
   ]
  },
  {
   "cell_type": "code",
   "execution_count": 23,
   "metadata": {},
   "outputs": [
    {
     "name": "stdout",
     "output_type": "stream",
     "text": [
      "copyToLocal: `output': File exists\n"
     ]
    }
   ],
   "source": [
    "!hdfs dfs -copyToLocal /tmp/hivep5/000000_0 output;"
   ]
  },
  {
   "cell_type": "code",
   "execution_count": 38,
   "metadata": {},
   "outputs": [
    {
     "name": "stdout",
     "output_type": "stream",
     "text": [
      "%hive_quit\n",
      "DROP TABLE may;\n",
      "NoViableAltException(338@[])\n",
      "\tat org.apache.hadoop.hive.ql.parse.HiveParser.statement(HiveParser.java:1300)\n",
      "\tat org.apache.hadoop.hive.ql.parse.ParseDriver.parse(ParseDriver.java:208)\n",
      "\tat org.apache.hadoop.hive.ql.parse.ParseUtils.parse(ParseUtils.java:77)\n",
      "\tat org.apache.hadoop.hive.ql.parse.ParseUtils.parse(ParseUtils.java:70)\n",
      "\tat org.apache.hadoop.hive.ql.Driver.compile(Driver.java:468)\n",
      "\tat org.apache.hadoop.hive.ql.Driver.compileInternal(Driver.java:1317)\n",
      "\tat org.apache.hadoop.hive.ql.Driver.runInternal(Driver.java:1457)\n",
      "\tat org.apache.hadoop.hive.ql.Driver.run(Driver.java:1237)\n",
      "\tat org.apache.hadoop.hive.ql.Driver.run(Driver.java:1227)\n",
      "\tat org.apache.hadoop.hive.cli.CliDriver.processLocalCmd(CliDriver.java:233)\n",
      "\tat org.apache.hadoop.hive.cli.CliDriver.processCmd(CliDriver.java:184)\n",
      "\tat org.apache.hadoop.hive.cli.CliDriver.processLine(CliDriver.java:403)\n",
      "\tat org.apache.hadoop.hive.cli.CliDriver.executeDriver(CliDriver.java:821)\n",
      "\tat org.apache.hadoop.hive.cli.CliDriver.run(CliDriver.java:759)\n",
      "\tat org.apache.hadoop.hive.cli.CliDriver.main(CliDriver.java:686)\n",
      "\tat sun.reflect.NativeMethodAccessorImpl.invoke0(Native Method)\n",
      "\tat sun.reflect.NativeMethodAccessorImpl.invoke(NativeMethodAccessorImpl.java:62)\n",
      "\tat sun.reflect.DelegatingMethodAccessorImpl.invoke(DelegatingMethodAccessorImpl.java:43)\n",
      "\tat java.lang.reflect.Method.invoke(Method.java:498)\n",
      "\tat org.apache.hadoop.util.RunJar.run(RunJar.java:239)\n",
      "\tat org.apache.hadoop.util.RunJar.main(RunJar.java:153)\n",
      "FAILED: ParseException line 1:0 cannot recognize input near '%' 'hive_quit' 'DROP'\n"
     ]
    }
   ],
   "source": [
    "%%hive\n",
    "DROP TABLE may;\n",
    "%hive_quit"
   ]
  },
  {
   "cell_type": "code",
   "execution_count": null,
   "metadata": {},
   "outputs": [],
   "source": []
  }
 ],
 "metadata": {
  "kernelspec": {
   "display_name": "Python 3",
   "language": "python",
   "name": "python3"
  },
  "language_info": {
   "codemirror_mode": {
    "name": "ipython",
    "version": 3
   },
   "file_extension": ".py",
   "mimetype": "text/x-python",
   "name": "python",
   "nbconvert_exporter": "python",
   "pygments_lexer": "ipython3",
   "version": "3.6.9"
  }
 },
 "nbformat": 4,
 "nbformat_minor": 4
}
