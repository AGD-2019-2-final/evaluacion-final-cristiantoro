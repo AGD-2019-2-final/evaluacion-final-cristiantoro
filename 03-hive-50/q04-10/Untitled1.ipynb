{
 "cells": [
  {
   "cell_type": "code",
   "execution_count": 1,
   "metadata": {},
   "outputs": [],
   "source": [
    "\n",
    "%load_ext bigdata"
   ]
  },
  {
   "cell_type": "code",
   "execution_count": 54,
   "metadata": {},
   "outputs": [],
   "source": [
    "%hive_start"
   ]
  },
  {
   "cell_type": "code",
   "execution_count": 3,
   "metadata": {},
   "outputs": [],
   "source": [
    "\n",
    "%timeout 300"
   ]
  },
  {
   "cell_type": "code",
   "execution_count": 4,
   "metadata": {},
   "outputs": [
    {
     "name": "stdout",
     "output_type": "stream",
     "text": [
      "Found 2 items\n",
      "drwxrwx---   - root supergroup          0 2020-01-20 01:29 /tmp/hadoop-yarn\n",
      "drwxrwxrwx   - root supergroup          0 2020-01-20 01:31 /tmp/hive\n"
     ]
    }
   ],
   "source": [
    "!hdfs dfs -ls /tmp"
   ]
  },
  {
   "cell_type": "code",
   "execution_count": 5,
   "metadata": {},
   "outputs": [],
   "source": [
    "!hdfs dfs -mkdir /tmp/hivep4"
   ]
  },
  {
   "cell_type": "code",
   "execution_count": 6,
   "metadata": {},
   "outputs": [
    {
     "name": "stdout",
     "output_type": "stream",
     "text": [
      "Found 3 items\n",
      "drwxrwx---   - root supergroup          0 2020-01-20 01:29 /tmp/hadoop-yarn\n",
      "drwxrwxrwx   - root supergroup          0 2020-01-20 01:31 /tmp/hive\n",
      "drwxr-xr-x   - root supergroup          0 2020-01-20 01:31 /tmp/hivep4\n"
     ]
    }
   ],
   "source": [
    "!hdfs dfs -ls /tmp/"
   ]
  },
  {
   "cell_type": "code",
   "execution_count": 7,
   "metadata": {},
   "outputs": [],
   "source": [
    "!hdfs dfs -copyFromLocal tbl0.csv /tmp/hivep4/"
   ]
  },
  {
   "cell_type": "code",
   "execution_count": 8,
   "metadata": {},
   "outputs": [],
   "source": [
    "!hdfs dfs -copyFromLocal tbl1.csv /tmp/hivep4/"
   ]
  },
  {
   "cell_type": "code",
   "execution_count": 9,
   "metadata": {},
   "outputs": [
    {
     "name": "stdout",
     "output_type": "stream",
     "text": [
      "Found 2 items\n",
      "-rw-r--r--   1 root supergroup        397 2020-01-20 01:31 /tmp/hivep4/tbl0.csv\n",
      "-rw-r--r--   1 root supergroup        282 2020-01-20 01:31 /tmp/hivep4/tbl1.csv\n"
     ]
    }
   ],
   "source": [
    "## Verifica que los archivos esten copiados\n",
    "## en el hdfs\n",
    "##\n",
    "!hdfs dfs -ls /tmp/hivep4"
   ]
  },
  {
   "cell_type": "code",
   "execution_count": 10,
   "metadata": {},
   "outputs": [
    {
     "name": "stdout",
     "output_type": "stream",
     "text": [
      "DROP TABLE IF EXISTS tbl0;\n",
      "OK\n",
      "Time taken: 22.976 seconds\n",
      "CREATE TABLE tbl0 (\n",
      "    c1 INT,\n",
      "    c2 STRING,\n",
      "    c3 INT,\n",
      "    c4 DATE,\n",
      "    c5 ARRAY<CHAR(1)>, \n",
      "    c6 MAP<STRING, INT>\n",
      ")\n",
      "ROW FORMAT DELIMITED \n",
      "FIELDS TERMINATED BY ','\n",
      "COLLECTION ITEMS TERMINATED BY ':'\n",
      "MAP KEYS TERMINATED BY '#'\n",
      "LINES TERMINATED BY '\\n';\n",
      "OK\n",
      "Time taken: 7.188 seconds\n",
      "LOAD DATA LOCAL INPATH 'tbl0.csv' INTO TABLE tbl0;\n",
      "Loading data to table default.tbl0\n",
      "OK\n",
      "Time taken: 2.964 seconds\n"
     ]
    }
   ],
   "source": [
    "%%hive\n",
    "DROP TABLE IF EXISTS tbl0;\n",
    "CREATE TABLE tbl0 (\n",
    "    c1 INT,\n",
    "    c2 STRING,\n",
    "    c3 INT,\n",
    "    c4 DATE,\n",
    "    c5 ARRAY<CHAR(1)>, \n",
    "    c6 MAP<STRING, INT>\n",
    ")\n",
    "ROW FORMAT DELIMITED \n",
    "FIELDS TERMINATED BY ','\n",
    "COLLECTION ITEMS TERMINATED BY ':'\n",
    "MAP KEYS TERMINATED BY '#'\n",
    "LINES TERMINATED BY '\\n';\n",
    "LOAD DATA LOCAL INPATH 'tbl0.csv' INTO TABLE tbl0;"
   ]
  },
  {
   "cell_type": "code",
   "execution_count": 12,
   "metadata": {},
   "outputs": [
    {
     "name": "stdout",
     "output_type": "stream",
     "text": [
      "SHOW TBLPROPERTIES data;\n",
      "OK\n",
      "numFiles\t1\n",
      "numRows\t0\n",
      "rawDataSize\t0\n",
      "totalSize\t677\n",
      "transient_lastDdlTime\t1579481467\n",
      "Time taken: 0.031 seconds, Fetched: 5 row(s)\n"
     ]
    }
   ],
   "source": [
    "%%hive\n",
    "SHOW TBLPROPERTIES data;"
   ]
  },
  {
   "cell_type": "code",
   "execution_count": 56,
   "metadata": {},
   "outputs": [
    {
     "name": "stdout",
     "output_type": "stream",
     "text": [
      "SELECT * FROM tbl0;\n",
      "OK\n",
      "1\tD\t4\t2016-06-25\t[\"a\",\"e\",\"c\",\"d\"]\t{\"bb\":10,\"dd\":20,\"cc\":40}\n",
      "2\tC\t4\t2015-05-14\t[\"a\",\"c\"]\t{\"dd\":40,\"bb\":20,\"cc\":10}\n",
      "3\tD\t6\t2014-12-26\t[\"b\",\"d\"]\t{\"aa\":10,\"bb\":40}\n",
      "4\tD\t5\t2016-06-25\t[\"a\",\"c\",\"e\",\"b\",\"d\"]\t{\"bb\":40,\"dd\":20,\"aa\":10,\"cc\":30}\n",
      "5\tC\t7\t2016-05-23\t[\"d\",\"e\",\"c\"]\t{\"cc\":10,\"aa\":20}\n",
      "6\tA\t2\t2018-06-14\t[\"a\",\"d\"]\t{\"aa\":20}\n",
      "7\tB\t3\t2014-12-22\t[\"a\",\"e\",\"d\"]\t{\"cc\":20}\n",
      "8\tC\t6\t2015-08-20\t[\"d\",\"a\",\"c\",\"e\"]\t{\"cc\":10,\"aa\":20}\n",
      "9\tB\t3\t2017-12-08\t[\"b\",\"a\",\"c\",\"e\"]\t{\"cc\":40,\"dd\":10,\"aa\":30,\"bb\":20}\n",
      "10\tB\t7\t2015-07-28\t[\"c\",\"d\",\"e\",\"a\",\"b\"]\t{\"aa\":10,\"dd\":40,\"cc\":30}\n",
      "Time taken: 10.216 seconds, Fetched: 10 row(s)\n"
     ]
    }
   ],
   "source": [
    "%%hive\n",
    "SELECT * FROM tbl0;"
   ]
  },
  {
   "cell_type": "code",
   "execution_count": 42,
   "metadata": {},
   "outputs": [
    {
     "name": "stdout",
     "output_type": "stream",
     "text": [
      "DROP TABLE IF EXISTS word_counts;\n",
      "OK\n",
      "Time taken: 0.005 seconds\n",
      "CREATE TABLE word_counts\n",
      "AS \n",
      " a      distinct a.conver from (select explode(C5) as conver from tbl0) as \n",
      ";\n",
      "WARNING: Hive-on-MR is deprecated in Hive 2 and may not be available in the future versions. Consider using a different execution engine (i.e. spark, tez) or using Hive 1.X releases.\n",
      "Query ID = root_20200120024240_193f2b18-52c7-49ae-a9c6-41091fd93420\n",
      "Total jobs = 1\n",
      "Launching Job 1 out of 1\n",
      "Number of reduce tasks not specified. Estimated from input data size: 1\n",
      "In order to change the average load for a reducer (in bytes):\n",
      "  set hive.exec.reducers.bytes.per.reducer=<number>\n",
      "In order to limit the maximum number of reducers:\n",
      "  set hive.exec.reducers.max=<number>\n",
      "In order to set a constant number of reducers:\n",
      "  set mapreduce.job.reduces=<number>\n",
      "Starting Job = job_1579483677500_0015, Tracking URL = http://e830e59f29ce:8088/proxy/application_1579483677500_0015/\n",
      "Kill Command = /usr/local/hadoop/bin/hadoop job  -kill job_1579483677500_0015\n",
      "Hadoop job information for Stage-1: number of mappers: 1; number of reducers: 1\n",
      "2020-01-20 02:42:47,500 Stage-1 map = 0%,  reduce = 0%\n",
      "2020-01-20 02:42:51,818 Stage-1 map = 100%,  reduce = 0%, Cumulative CPU 1.6 sec\n",
      "2020-01-20 02:42:58,315 Stage-1 map = 100%,  reduce = 100%, Cumulative CPU 3.44 sec\n",
      "MapReduce Total cumulative CPU time: 3 seconds 440 msec\n",
      "Ended Job = job_1579483677500_0015\n",
      "Moving data to directory hdfs://0.0.0.0:9000/user/hive/warehouse/word_counts\n",
      "MapReduce Jobs Launched: \n",
      "Stage-Stage-1: Map: 1  Reduce: 1   Cumulative CPU: 3.44 sec   HDFS Read: 9091 HDFS Write: 85 SUCCESS\n",
      "Total MapReduce CPU Time Spent: 3 seconds 440 msec\n",
      "OK\n",
      "Time taken: 18.943 seconds\n",
      "INSERT OVERWRITE DIRECTORY '/tmp/hivep4'\n",
      "ROW FORMAT DELIMITED FIELDS TERMINATED BY ','\n",
      "SELECT * FROM word_counts;\n",
      "WARNING: Hive-on-MR is deprecated in Hive 2 and may not be available in the future versions. Consider using a different execution engine (i.e. spark, tez) or using Hive 1.X releases.\n",
      "Query ID = root_20200120024259_8ee7aa0b-915a-4dac-a636-b964b9fa9e6a\n",
      "Total jobs = 3\n",
      "Launching Job 1 out of 3\n",
      "Number of reduce tasks is set to 0 since there's no reduce operator\n",
      "Starting Job = job_1579483677500_0016, Tracking URL = http://e830e59f29ce:8088/proxy/application_1579483677500_0016/\n",
      "Kill Command = /usr/local/hadoop/bin/hadoop job  -kill job_1579483677500_0016\n",
      "Hadoop job information for Stage-1: number of mappers: 1; number of reducers: 0\n",
      "2020-01-20 02:43:10,035 Stage-1 map = 0%,  reduce = 0%\n",
      "2020-01-20 02:43:15,392 Stage-1 map = 100%,  reduce = 0%, Cumulative CPU 1.25 sec\n",
      "MapReduce Total cumulative CPU time: 1 seconds 250 msec\n",
      "Ended Job = job_1579483677500_0016\n",
      "Stage-3 is selected by condition resolver.\n",
      "Stage-2 is filtered out by condition resolver.\n",
      "Stage-4 is filtered out by condition resolver.\n",
      "Moving data to directory hdfs://0.0.0.0:9000/tmp/hivep4/.hive-staging_hive_2020-01-20_02-42-59_986_8121557961679792532-1/-ext-10000\n",
      "Moving data to directory /tmp/hivep4\n",
      "MapReduce Jobs Launched: \n",
      "Stage-Stage-1: Map: 1   Cumulative CPU: 1.25 sec   HDFS Read: 3380 HDFS Write: 10 SUCCESS\n",
      "Total MapReduce CPU Time Spent: 1 seconds 250 msec\n",
      "OK\n",
      "Time taken: 16.543 seconds\n"
     ]
    }
   ],
   "source": [
    "%%hive\n",
    "DROP TABLE IF EXISTS word_counts;\n",
    "CREATE TABLE word_counts\n",
    "AS \n",
    "\n",
    "select  distinct a.conver from (select explode(C5) as conver from tbl0) as a    \n",
    ";\n",
    "\n",
    "\n",
    "INSERT OVERWRITE DIRECTORY '/tmp/hivep4'\n",
    "ROW FORMAT DELIMITED FIELDS TERMINATED BY ','\n",
    "SELECT * FROM word_counts;"
   ]
  },
  {
   "cell_type": "code",
   "execution_count": 43,
   "metadata": {},
   "outputs": [
    {
     "name": "stdout",
     "output_type": "stream",
     "text": [
      "a\n",
      "b\n",
      "c\n",
      "d\n",
      "e\n"
     ]
    }
   ],
   "source": [
    "!hdfs dfs -cat /tmp/hivep4/000000_0 "
   ]
  },
  {
   "cell_type": "code",
   "execution_count": 44,
   "metadata": {},
   "outputs": [],
   "source": [
    "!hdfs dfs -copyToLocal /tmp/hivep4/000000_0 output;"
   ]
  },
  {
   "cell_type": "code",
   "execution_count": null,
   "metadata": {},
   "outputs": [],
   "source": [
    "########pto5"
   ]
  },
  {
   "cell_type": "code",
   "execution_count": 101,
   "metadata": {},
   "outputs": [
    {
     "name": "stdout",
     "output_type": "stream",
     "text": [
      "DROP TABLE IF EXISTS pt5;\n",
      "OK\n",
      "Time taken: 0.188 seconds\n",
      "CREATE TABLE pt5\n",
      "AS\n",
      "SELECT YEAR(c4) as ano, c0\n",
      "FROM tbl0 LATERAL VIEW explode(c5) adTable AS c0  \n",
      ";\n",
      "WARNING: Hive-on-MR is deprecated in Hive 2 and may not be available in the future versions. Consider using a different execution engine (i.e. spark, tez) or using Hive 1.X releases.\n",
      "Query ID = root_20200120050734_112f93e5-149f-4f65-ad0f-f8ce6212d152\n",
      "Total jobs = 3\n",
      "Launching Job 1 out of 3\n",
      "Number of reduce tasks is set to 0 since there's no reduce operator\n",
      "Starting Job = job_1579483677500_0033, Tracking URL = http://e830e59f29ce:8088/proxy/application_1579483677500_0033/\n",
      "Kill Command = /usr/local/hadoop/bin/hadoop job  -kill job_1579483677500_0033\n",
      "Hadoop job information for Stage-1: number of mappers: 1; number of reducers: 0\n",
      "2020-01-20 05:07:40,932 Stage-1 map = 0%,  reduce = 0%\n",
      "2020-01-20 05:07:47,412 Stage-1 map = 100%,  reduce = 0%, Cumulative CPU 3.02 sec\n",
      "MapReduce Total cumulative CPU time: 3 seconds 20 msec\n",
      "Ended Job = job_1579483677500_0033\n",
      "Stage-4 is selected by condition resolver.\n",
      "Stage-3 is filtered out by condition resolver.\n",
      "Stage-5 is filtered out by condition resolver.\n",
      "Moving data to directory hdfs://0.0.0.0:9000/user/hive/warehouse/.hive-staging_hive_2020-01-20_05-07-34_218_1652505845774354052-1/-ext-10001\n",
      "Moving data to directory hdfs://0.0.0.0:9000/user/hive/warehouse/pt5\n",
      "MapReduce Jobs Launched: \n",
      "Stage-Stage-1: Map: 1   Cumulative CPU: 3.02 sec   HDFS Read: 6144 HDFS Write: 306 SUCCESS\n",
      "Total MapReduce CPU Time Spent: 3 seconds 20 msec\n",
      "OK\n",
      "Time taken: 14.744 seconds\n",
      "CREATE TABLE pt51\n",
      "AS\n",
      "SELECT ano, c0, count(1)\n",
      "FROM pt5 \n",
      "group by ano, c0\n",
      ";\n",
      "WARNING: Hive-on-MR is deprecated in Hive 2 and may not be available in the future versions. Consider using a different execution engine (i.e. spark, tez) or using Hive 1.X releases.\n",
      "Query ID = root_20200120050749_caf93391-ce9b-4cf8-98cb-007f22045e6c\n",
      "Total jobs = 1\n",
      "Launching Job 1 out of 1\n",
      "Number of reduce tasks not specified. Estimated from input data size: 1\n",
      "In order to change the average load for a reducer (in bytes):\n",
      "  set hive.exec.reducers.bytes.per.reducer=<number>\n",
      "In order to limit the maximum number of reducers:\n",
      "  set hive.exec.reducers.max=<number>\n",
      "In order to set a constant number of reducers:\n",
      "  set mapreduce.job.reduces=<number>\n",
      "Starting Job = job_1579483677500_0034, Tracking URL = http://e830e59f29ce:8088/proxy/application_1579483677500_0034/\n",
      "Kill Command = /usr/local/hadoop/bin/hadoop job  -kill job_1579483677500_0034\n",
      "Hadoop job information for Stage-1: number of mappers: 1; number of reducers: 1\n",
      "2020-01-20 05:07:59,478 Stage-1 map = 0%,  reduce = 0%\n",
      "2020-01-20 05:08:04,840 Stage-1 map = 100%,  reduce = 0%, Cumulative CPU 1.65 sec\n",
      "2020-01-20 05:08:10,541 Stage-1 map = 100%,  reduce = 100%, Cumulative CPU 3.61 sec\n",
      "MapReduce Total cumulative CPU time: 3 seconds 610 msec\n",
      "Ended Job = job_1579483677500_0034\n",
      "Moving data to directory hdfs://0.0.0.0:9000/user/hive/warehouse/pt51\n",
      "MapReduce Jobs Launched: \n",
      "Stage-Stage-1: Map: 1  Reduce: 1   Cumulative CPU: 3.61 sec   HDFS Read: 8563 HDFS Write: 249 SUCCESS\n",
      "Total MapReduce CPU Time Spent: 3 seconds 610 msec\n",
      "OK\n",
      "Time taken: 22.775 seconds\n",
      "INSERT OVERWRITE DIRECTORY '/tmp/hivep4'\n",
      "ROW FORMAT DELIMITED FIELDS TERMINATED BY ','\n",
      "SELECT * FROM pt51;\n",
      "WARNING: Hive-on-MR is deprecated in Hive 2 and may not be available in the future versions. Consider using a different execution engine (i.e. spark, tez) or using Hive 1.X releases.\n",
      "Query ID = root_20200120050812_e1b2df09-3f31-41fb-a624-1e41244b98a4\n",
      "Total jobs = 3\n",
      "Launching Job 1 out of 3\n",
      "Number of reduce tasks is set to 0 since there's no reduce operator\n",
      "Starting Job = job_1579483677500_0035, Tracking URL = http://e830e59f29ce:8088/proxy/application_1579483677500_0035/\n",
      "Kill Command = /usr/local/hadoop/bin/hadoop job  -kill job_1579483677500_0035\n",
      "Hadoop job information for Stage-1: number of mappers: 1; number of reducers: 0\n",
      "2020-01-20 05:08:24,145 Stage-1 map = 0%,  reduce = 0%\n",
      "2020-01-20 05:08:28,487 Stage-1 map = 100%,  reduce = 0%, Cumulative CPU 1.65 sec\n",
      "MapReduce Total cumulative CPU time: 1 seconds 650 msec\n",
      "Ended Job = job_1579483677500_0035\n",
      "Stage-3 is selected by condition resolver.\n",
      "Stage-2 is filtered out by condition resolver.\n",
      "Stage-4 is filtered out by condition resolver.\n",
      "Moving data to directory hdfs://0.0.0.0:9000/tmp/hivep4/.hive-staging_hive_2020-01-20_05-08-12_250_5632812622362393624-1/-ext-10000\n",
      "Moving data to directory /tmp/hivep4\n",
      "MapReduce Jobs Launched: \n",
      "Stage-Stage-1: Map: 1   Cumulative CPU: 1.65 sec   HDFS Read: 3750 HDFS Write: 180 SUCCESS\n",
      "Total MapReduce CPU Time Spent: 1 seconds 650 msec\n",
      "OK\n",
      "Time taken: 17.368 seconds\n"
     ]
    }
   ],
   "source": [
    "%%hive\n",
    "DROP TABLE IF EXISTS pt5;\n",
    "CREATE TABLE pt5\n",
    "AS\n",
    "SELECT YEAR(c4) as ano, c0\n",
    "FROM tbl0 LATERAL VIEW explode(c5) adTable AS c0  \n",
    "\n",
    ";\n",
    "\n",
    "CREATE TABLE pt51\n",
    "AS\n",
    "SELECT ano, c0, count(1)\n",
    "FROM pt5 \n",
    "group by ano, c0\n",
    "\n",
    ";\n",
    "\n",
    "\n",
    "INSERT OVERWRITE DIRECTORY '/tmp/hivep4'\n",
    "ROW FORMAT DELIMITED FIELDS TERMINATED BY ','\n",
    "SELECT * FROM pt51;"
   ]
  },
  {
   "cell_type": "code",
   "execution_count": 102,
   "metadata": {},
   "outputs": [
    {
     "name": "stdout",
     "output_type": "stream",
     "text": [
      "2014,a,1\n",
      "2014,b,1\n",
      "2014,d,2\n",
      "2014,e,1\n",
      "2015,a,3\n",
      "2015,b,1\n",
      "2015,c,3\n",
      "2015,d,2\n",
      "2015,e,2\n",
      "2016,a,2\n",
      "2016,b,1\n",
      "2016,c,3\n",
      "2016,d,3\n",
      "2016,e,3\n",
      "2017,a,1\n",
      "2017,b,1\n",
      "2017,c,1\n",
      "2017,e,1\n",
      "2018,a,1\n",
      "2018,d,1\n"
     ]
    }
   ],
   "source": [
    "!hdfs dfs -cat /tmp/hivep4/000000_0 "
   ]
  }
 ],
 "metadata": {
  "kernelspec": {
   "display_name": "Python 3",
   "language": "python",
   "name": "python3"
  },
  "language_info": {
   "codemirror_mode": {
    "name": "ipython",
    "version": 3
   },
   "file_extension": ".py",
   "mimetype": "text/x-python",
   "name": "python",
   "nbconvert_exporter": "python",
   "pygments_lexer": "ipython3",
   "version": "3.6.9"
  }
 },
 "nbformat": 4,
 "nbformat_minor": 4
}
