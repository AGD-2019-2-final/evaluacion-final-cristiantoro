{
 "cells": [
  {
   "cell_type": "code",
   "execution_count": 1,
   "metadata": {},
   "outputs": [],
   "source": [
    "%load_ext bigdata\n",
    "%hive_start\n",
    "%timeout 300"
   ]
  },
  {
   "cell_type": "code",
   "execution_count": 2,
   "metadata": {},
   "outputs": [
    {
     "name": "stdout",
     "output_type": "stream",
     "text": [
      "Found 6 items\n",
      "drwxrwx---   - root supergroup          0 2020-02-11 03:08 /tmp/hadoop-yarn\n",
      "drwxrwxrwx   - root supergroup          0 2020-02-11 03:10 /tmp/hive\n",
      "drwxr-xr-x   - root supergroup          0 2020-02-11 04:12 /tmp/hivep10\n",
      "drwxr-xr-x   - root supergroup          0 2020-02-11 04:24 /tmp/hivep11\n",
      "drwxr-xr-x   - root supergroup          0 2020-02-11 03:16 /tmp/hivep8\n",
      "drwxr-xr-x   - root supergroup          0 2020-02-11 03:54 /tmp/hivep9\n",
      "Found 7 items\n",
      "drwxrwx---   - root supergroup          0 2020-02-11 03:08 /tmp/hadoop-yarn\n",
      "drwxrwxrwx   - root supergroup          0 2020-02-11 03:10 /tmp/hive\n",
      "drwxr-xr-x   - root supergroup          0 2020-02-11 04:12 /tmp/hivep10\n",
      "drwxr-xr-x   - root supergroup          0 2020-02-11 04:24 /tmp/hivep11\n",
      "drwxr-xr-x   - root supergroup          0 2020-02-11 04:28 /tmp/hivep12\n",
      "drwxr-xr-x   - root supergroup          0 2020-02-11 03:16 /tmp/hivep8\n",
      "drwxr-xr-x   - root supergroup          0 2020-02-11 03:54 /tmp/hivep9\n"
     ]
    }
   ],
   "source": [
    "!hdfs dfs -ls /tmp\n",
    "!hdfs dfs -mkdir /tmp/hivep12\n",
    "!hdfs dfs -ls /tmp/\n",
    "!hdfs dfs -copyFromLocal data.tsv /tmp/hivep12/"
   ]
  },
  {
   "cell_type": "code",
   "execution_count": 3,
   "metadata": {},
   "outputs": [
    {
     "name": "stdout",
     "output_type": "stream",
     "text": [
      "DROP TABLE IF EXISTS t0;\n",
      "OK\n",
      "Time taken: 19.281 seconds\n",
      "CREATE TABLE t0 (\n",
      "    c1 STRING,\n",
      "    c2 ARRAY<CHAR(1)>, \n",
      "    c3 MAP<STRING, INT>\n",
      "    )\n",
      "    ROW FORMAT DELIMITED \n",
      "        FIELDS TERMINATED BY '\\t'\n",
      "        COLLECTION ITEMS TERMINATED BY ','\n",
      "        MAP KEYS TERMINATED BY '#'\n",
      "        LINES TERMINATED BY '\\n';\n",
      "OK\n",
      "Time taken: 4.135 seconds\n",
      "LOAD DATA LOCAL INPATH 'data.tsv' INTO TABLE t0;\n",
      "Loading data to table default.t0\n",
      "OK\n",
      "Time taken: 3.433 seconds\n"
     ]
    }
   ],
   "source": [
    "%%hive\n",
    "DROP TABLE IF EXISTS t0;\n",
    "CREATE TABLE t0 (\n",
    "    c1 STRING,\n",
    "    c2 ARRAY<CHAR(1)>, \n",
    "    c3 MAP<STRING, INT>\n",
    "    )\n",
    "    ROW FORMAT DELIMITED \n",
    "        FIELDS TERMINATED BY '\\t'\n",
    "        COLLECTION ITEMS TERMINATED BY ','\n",
    "        MAP KEYS TERMINATED BY '#'\n",
    "        LINES TERMINATED BY '\\n';\n",
    "LOAD DATA LOCAL INPATH 'data.tsv' INTO TABLE t0;"
   ]
  },
  {
   "cell_type": "code",
   "execution_count": 7,
   "metadata": {},
   "outputs": [
    {
     "name": "stdout",
     "output_type": "stream",
     "text": [
      "SELECT * FROM pt12;\n",
      "WARNING: Hive-on-MR is deprecated in Hive 2 and may not be available in the future versions. Consider using a different execution engine (i.e. spark, tez) or using Hive 1.X releases.\n",
      "Query ID = root_20200211043408_b076353f-338c-4d34-8d2f-e3da95630bd1\n",
      "Total jobs = 3\n",
      "Launching Job 1 out of 3\n",
      "Number of reduce tasks is set to 0 since there's no reduce operator\n",
      "Starting Job = job_1581390426457_0014, Tracking URL = http://714a45eef6db:8088/proxy/application_1581390426457_0014/\n",
      "Kill Command = /usr/local/hadoop/bin/hadoop job  -kill job_1581390426457_0014\n",
      "Hadoop job information for Stage-1: number of mappers: 1; number of reducers: 0\n",
      "2020-02-11 04:34:24,176 Stage-1 map = 0%,  reduce = 0%\n",
      "2020-02-11 04:34:35,065 Stage-1 map = 100%,  reduce = 0%, Cumulative CPU 3.07 sec\n",
      "MapReduce Total cumulative CPU time: 3 seconds 70 msec\n",
      "Ended Job = job_1581390426457_0014\n",
      "Stage-3 is selected by condition resolver.\n",
      "Stage-2 is filtered out by condition resolver.\n",
      "Stage-4 is filtered out by condition resolver.\n",
      "Moving data to directory hdfs://0.0.0.0:9000/tmp/hivep12/.hive-staging_hive_2020-02-11_04-34-08_438_5708915029910573769-1/-ext-10000\n",
      "Moving data to directory /tmp/hivep12\n",
      "MapReduce Jobs Launched: \n",
      "Stage-Stage-1: Map: 1   Cumulative CPU: 3.07 sec   HDFS Read: 4165 HDFS Write: 573 SUCCESS\n",
      "Total MapReduce CPU Time Spent: 3 seconds 70 msec\n",
      "OK\n",
      "Time taken: 29.144 seconds\n",
      "DROP TABLE IF EXISTS pt12;\n",
      "OK\n",
      "Time taken: 0.602 seconds\n",
      "CREATE TABLE pt12\n",
      "AS\n",
      "SELECT \n",
      "letra1 AS c1,\n",
      "letra  AS c2,\n",
      "COUNT(*) AS c3\n",
      "FROM t0 \n",
      "LATERAL VIEW explode(c2) adTable1 AS letra1\n",
      "LATERAL VIEW explode(c3) adTable AS letra,numero\n",
      "GROUP BY letra1,letra;\n",
      "WARNING: Hive-on-MR is deprecated in Hive 2 and may not be available in the future versions. Consider using a different execution engine (i.e. spark, tez) or using Hive 1.X releases.\n",
      "Query ID = root_20200211043656_73208e51-5ce4-43a7-bff3-de17e7722e40\n",
      "Total jobs = 1\n",
      "Launching Job 1 out of 1\n",
      "Number of reduce tasks not specified. Estimated from input data size: 1\n",
      "In order to change the average load for a reducer (in bytes):\n",
      "  set hive.exec.reducers.bytes.per.reducer=<number>\n",
      "In order to limit the maximum number of reducers:\n",
      "  set hive.exec.reducers.max=<number>\n",
      "In order to set a constant number of reducers:\n",
      "  set mapreduce.job.reduces=<number>\n",
      "Starting Job = job_1581390426457_0015, Tracking URL = http://714a45eef6db:8088/proxy/application_1581390426457_0015/\n",
      "Kill Command = /usr/local/hadoop/bin/hadoop job  -kill job_1581390426457_0015\n",
      "Hadoop job information for Stage-1: number of mappers: 1; number of reducers: 1\n",
      "2020-02-11 04:37:09,624 Stage-1 map = 0%,  reduce = 0%\n",
      "2020-02-11 04:37:17,790 Stage-1 map = 100%,  reduce = 0%, Cumulative CPU 3.62 sec\n",
      "2020-02-11 04:37:28,261 Stage-1 map = 100%,  reduce = 100%, Cumulative CPU 7.77 sec\n",
      "MapReduce Total cumulative CPU time: 7 seconds 770 msec\n",
      "Ended Job = job_1581390426457_0015\n",
      "Moving data to directory hdfs://0.0.0.0:9000/user/hive/warehouse/pt12\n",
      "MapReduce Jobs Launched: \n",
      "Stage-Stage-1: Map: 1  Reduce: 1   Cumulative CPU: 7.77 sec   HDFS Read: 14629 HDFS Write: 642 SUCCESS\n",
      "Total MapReduce CPU Time Spent: 7 seconds 770 msec\n",
      "OK\n",
      "Time taken: 33.609 seconds\n",
      "INSERT OVERWRITE DIRECTORY '/tmp/hivep12'\n",
      "ROW FORMAT DELIMITED FIELDS TERMINATED BY ','\n",
      "COLLECTION ITEMS TERMINATED BY ':'\n"
     ]
    }
   ],
   "source": [
    "%%hive\n",
    "DROP TABLE IF EXISTS pt12;\n",
    "CREATE TABLE pt12\n",
    "AS\n",
    "SELECT \n",
    "letra1 AS c1,\n",
    "letra  AS c2,\n",
    "COUNT(*) AS c3\n",
    "FROM t0 \n",
    "LATERAL VIEW explode(c2) adTable1 AS letra1\n",
    "LATERAL VIEW explode(c3) adTable AS letra,numero\n",
    "GROUP BY letra1,letra;\n",
    "\n",
    "INSERT OVERWRITE DIRECTORY '/tmp/hivep12'\n",
    "ROW FORMAT DELIMITED FIELDS TERMINATED BY ','\n",
    "COLLECTION ITEMS TERMINATED BY ':'\n",
    "SELECT * FROM pt12;"
   ]
  },
  {
   "cell_type": "code",
   "execution_count": 8,
   "metadata": {},
   "outputs": [
    {
     "name": "stdout",
     "output_type": "stream",
     "text": [
      "a,aaa,5\n",
      "a,bbb,7\n",
      "a,ccc,13\n",
      "a,ddd,13\n",
      "a,eee,7\n",
      "a,fff,10\n",
      "a,ggg,8\n",
      "a,hhh,8\n",
      "a,iii,7\n",
      "a,jjj,10\n",
      "b,aaa,4\n",
      "b,bbb,7\n",
      "b,ccc,5\n",
      "b,ddd,7\n",
      "b,eee,5\n",
      "b,fff,8\n",
      "b,ggg,4\n",
      "b,hhh,7\n",
      "b,iii,7\n",
      "b,jjj,5\n",
      "c,aaa,5\n",
      "c,bbb,4\n",
      "c,ccc,12\n",
      "c,ddd,9\n",
      "c,eee,6\n",
      "c,fff,8\n",
      "c,ggg,7\n",
      "c,hhh,7\n",
      "c,iii,8\n",
      "c,jjj,8\n",
      "d,aaa,4\n",
      "d,bbb,6\n",
      "d,ccc,7\n",
      "d,ddd,5\n",
      "d,eee,6\n",
      "d,fff,8\n",
      "d,ggg,6\n",
      "d,hhh,4\n",
      "d,iii,9\n",
      "d,jjj,8\n",
      "e,aaa,3\n",
      "e,bbb,8\n",
      "e,ccc,9\n",
      "e,ddd,7\n",
      "e,eee,7\n",
      "e,fff,9\n",
      "e,ggg,4\n",
      "e,hhh,4\n",
      "e,iii,8\n",
      "e,jjj,3\n",
      "f,aaa,8\n",
      "f,bbb,10\n",
      "f,ccc,13\n",
      "f,ddd,17\n",
      "f,eee,11\n",
      "f,fff,11\n",
      "f,ggg,9\n",
      "f,hhh,10\n",
      "f,iii,10\n",
      "f,jjj,12\n",
      "g,aaa,3\n",
      "g,bbb,3\n",
      "g,ccc,6\n",
      "g,ddd,5\n",
      "g,eee,4\n",
      "g,fff,5\n",
      "g,ggg,4\n",
      "g,hhh,3\n",
      "g,iii,4\n",
      "g,jjj,6\n"
     ]
    }
   ],
   "source": [
    "!hdfs dfs -cat /tmp/hivep12/000000_0 "
   ]
  },
  {
   "cell_type": "code",
   "execution_count": 9,
   "metadata": {},
   "outputs": [],
   "source": [
    "!hdfs dfs -copyToLocal /tmp/hivep12/000000_0 output;"
   ]
  },
  {
   "cell_type": "code",
   "execution_count": 22,
   "metadata": {},
   "outputs": [
    {
     "name": "stdout",
     "output_type": "stream",
     "text": [
      "DROP TABLE pto11;\n",
      "OK\n",
      "Time taken: 0.467 seconds\n",
      "DROP TABLE t0;\n",
      "OK\n",
      "Time taken: 0.846 seconds\n"
     ]
    }
   ],
   "source": [
    "%%hive\n",
    "DROP TABLE pto12;\n",
    "DROP TABLE t0;"
   ]
  },
  {
   "cell_type": "code",
   "execution_count": 10,
   "metadata": {},
   "outputs": [
    {
     "name": "stdout",
     "output_type": "stream",
     "text": [
      "rm: cannot remove 'derby.log': Text file busy\n"
     ]
    }
   ],
   "source": [
    "!rm *.tsv *.log"
   ]
  },
  {
   "cell_type": "code",
   "execution_count": 11,
   "metadata": {},
   "outputs": [],
   "source": [
    "%hive_quit"
   ]
  },
  {
   "cell_type": "code",
   "execution_count": null,
   "metadata": {},
   "outputs": [],
   "source": []
  }
 ],
 "metadata": {
  "kernelspec": {
   "display_name": "Python 3",
   "language": "python",
   "name": "python3"
  },
  "language_info": {
   "codemirror_mode": {
    "name": "ipython",
    "version": 3
   },
   "file_extension": ".py",
   "mimetype": "text/x-python",
   "name": "python",
   "nbconvert_exporter": "python",
   "pygments_lexer": "ipython3",
   "version": "3.6.9"
  }
 },
 "nbformat": 4,
 "nbformat_minor": 4
}
