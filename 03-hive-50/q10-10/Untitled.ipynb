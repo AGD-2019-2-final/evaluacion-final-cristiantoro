{
 "cells": [
  {
   "cell_type": "code",
   "execution_count": 1,
   "metadata": {},
   "outputs": [],
   "source": [
    "%load_ext bigdata\n",
    "%hive_start\n",
    "%timeout 300"
   ]
  },
  {
   "cell_type": "code",
   "execution_count": 2,
   "metadata": {},
   "outputs": [
    {
     "name": "stdout",
     "output_type": "stream",
     "text": [
      "Found 4 items\n",
      "drwxrwx---   - root supergroup          0 2020-02-11 03:08 /tmp/hadoop-yarn\n",
      "drwxrwxrwx   - root supergroup          0 2020-02-11 03:10 /tmp/hive\n",
      "drwxr-xr-x   - root supergroup          0 2020-02-11 03:16 /tmp/hivep8\n",
      "drwxr-xr-x   - root supergroup          0 2020-02-11 03:54 /tmp/hivep9\n",
      "Found 5 items\n",
      "drwxrwx---   - root supergroup          0 2020-02-11 03:08 /tmp/hadoop-yarn\n",
      "drwxrwxrwx   - root supergroup          0 2020-02-11 03:10 /tmp/hive\n",
      "drwxr-xr-x   - root supergroup          0 2020-02-11 04:06 /tmp/hivep10\n",
      "drwxr-xr-x   - root supergroup          0 2020-02-11 03:16 /tmp/hivep8\n",
      "drwxr-xr-x   - root supergroup          0 2020-02-11 03:54 /tmp/hivep9\n",
      "copyFromLocal: `tbl0.csv': No such file or directory\n",
      "copyFromLocal: `tbl1.csv': No such file or directory\n"
     ]
    }
   ],
   "source": [
    "!hdfs dfs -ls /tmp\n",
    "!hdfs dfs -mkdir /tmp/hivep10\n",
    "!hdfs dfs -ls /tmp/\n",
    "!hdfs dfs -copyFromLocal tbl0.csv /tmp/hivep10/\n",
    "!hdfs dfs -copyFromLocal tbl1.csv /tmp/hivep10/"
   ]
  },
  {
   "cell_type": "code",
   "execution_count": 3,
   "metadata": {},
   "outputs": [
    {
     "name": "stdout",
     "output_type": "stream",
     "text": [
      "DROP TABLE IF EXISTS t0;\n",
      "OK\n",
      "Time taken: 17.902 seconds\n",
      "CREATE TABLE t0 (\n",
      "    c1 STRING,\n",
      "    c2 ARRAY<CHAR(1)>, \n",
      "    c3 MAP<STRING, INT>\n",
      "    )\n",
      "    ROW FORMAT DELIMITED \n",
      "        FIELDS TERMINATED BY '\\t'\n",
      "        COLLECTION ITEMS TERMINATED BY ','\n",
      "        MAP KEYS TERMINATED BY '#'\n",
      "        LINES TERMINATED BY '\\n';\n",
      "OK\n",
      "Time taken: 2.056 seconds\n",
      "LOAD DATA LOCAL INPATH 'data.tsv' INTO TABLE t0;\n",
      "Loading data to table default.t0\n",
      "OK\n",
      "Time taken: 3.276 seconds\n"
     ]
    }
   ],
   "source": [
    "%%hive\n",
    "DROP TABLE IF EXISTS t0;\n",
    "CREATE TABLE t0 (\n",
    "    c1 STRING,\n",
    "    c2 ARRAY<CHAR(1)>, \n",
    "    c3 MAP<STRING, INT>\n",
    "    )\n",
    "    ROW FORMAT DELIMITED \n",
    "        FIELDS TERMINATED BY '\\t'\n",
    "        COLLECTION ITEMS TERMINATED BY ','\n",
    "        MAP KEYS TERMINATED BY '#'\n",
    "        LINES TERMINATED BY '\\n';\n",
    "LOAD DATA LOCAL INPATH 'data.tsv' INTO TABLE t0;"
   ]
  },
  {
   "cell_type": "code",
   "execution_count": 4,
   "metadata": {},
   "outputs": [
    {
     "name": "stdout",
     "output_type": "stream",
     "text": [
      "DROP TABLE IF EXISTS pt10;\n",
      "OK\n",
      "Time taken: 0.042 seconds\n",
      "CREATE TABLE pt10\n",
      "AS\n",
      "SELECT letra, COUNT(1)\n",
      "FROM t0 LATERAL VIEW explode(c3) adTable AS letra,numero\n",
      "GROUP BY letra;\n",
      "WARNING: Hive-on-MR is deprecated in Hive 2 and may not be available in the future versions. Consider using a different execution engine (i.e. spark, tez) or using Hive 1.X releases.\n",
      "Query ID = root_20200211040853_fff94ffe-a3b1-4ecc-a2bc-f144a28370bc\n",
      "Total jobs = 1\n",
      "Launching Job 1 out of 1\n",
      "Number of reduce tasks not specified. Estimated from input data size: 1\n",
      "In order to change the average load for a reducer (in bytes):\n",
      "  set hive.exec.reducers.bytes.per.reducer=<number>\n",
      "In order to limit the maximum number of reducers:\n",
      "  set hive.exec.reducers.max=<number>\n",
      "In order to set a constant number of reducers:\n",
      "  set mapreduce.job.reduces=<number>\n",
      "Starting Job = job_1581390426457_0007, Tracking URL = http://714a45eef6db:8088/proxy/application_1581390426457_0007/\n",
      "Kill Command = /usr/local/hadoop/bin/hadoop job  -kill job_1581390426457_0007\n",
      "Hadoop job information for Stage-1: number of mappers: 1; number of reducers: 1\n",
      "2020-02-11 04:09:09,210 Stage-1 map = 0%,  reduce = 0%\n",
      "2020-02-11 04:09:17,564 Stage-1 map = 100%,  reduce = 0%, Cumulative CPU 4.3 sec\n",
      "2020-02-11 04:09:27,065 Stage-1 map = 100%,  reduce = 100%, Cumulative CPU 8.9 sec\n",
      "MapReduce Total cumulative CPU time: 8 seconds 900 msec\n",
      "Ended Job = job_1581390426457_0007\n",
      "Moving data to directory hdfs://0.0.0.0:9000/user/hive/warehouse/pt10\n",
      "MapReduce Jobs Launched: \n",
      "Stage-Stage-1: Map: 1  Reduce: 1   Cumulative CPU: 8.9 sec   HDFS Read: 12613 HDFS Write: 138 SUCCESS\n",
      "Total MapReduce CPU Time Spent: 8 seconds 900 msec\n",
      "OK\n",
      "Time taken: 38.957 seconds\n",
      "INSERT OVERWRITE DIRECTORY '/tmp/hivep10'\n",
      "ROW FORMAT DELIMITED FIELDS TERMINATED BY ','\n",
      "COLLECTION ITEMS TERMINATED BY ':'\n",
      "SELECT * FROM pt10;\n",
      "WARNING: Hive-on-MR is deprecated in Hive 2 and may not be available in the future versions. Consider using a different execution engine (i.e. spark, tez) or using Hive 1.X releases.\n",
      "Query ID = root_20200211040932_5ce9fd4e-a9ad-4ed5-81d3-7870ebff6a85\n",
      "Total jobs = 3\n",
      "Launching Job 1 out of 3\n",
      "Number of reduce tasks is set to 0 since there's no reduce operator\n",
      "Starting Job = job_1581390426457_0008, Tracking URL = http://714a45eef6db:8088/proxy/application_1581390426457_0008/\n",
      "Kill Command = /usr/local/hadoop/bin/hadoop job  -kill job_1581390426457_0008\n",
      "Hadoop job information for Stage-1: number of mappers: 1; number of reducers: 0\n",
      "2020-02-11 04:09:49,516 Stage-1 map = 0%,  reduce = 0%\n",
      "2020-02-11 04:10:00,327 Stage-1 map = 100%,  reduce = 0%, Cumulative CPU 3.02 sec\n",
      "MapReduce Total cumulative CPU time: 3 seconds 20 msec\n",
      "Ended Job = job_1581390426457_0008\n",
      "Stage-3 is selected by condition resolver.\n",
      "Stage-2 is filtered out by condition resolver.\n",
      "Stage-4 is filtered out by condition resolver.\n",
      "Moving data to directory hdfs://0.0.0.0:9000/tmp/hivep10/.hive-staging_hive_2020-02-11_04-09-32_428_450360517141654051-1/-ext-10000\n",
      "Moving data to directory /tmp/hivep10\n",
      "MapReduce Jobs Launched: \n",
      "Stage-Stage-1: Map: 1   Cumulative CPU: 3.02 sec   HDFS Read: 3401 HDFS Write: 70 SUCCESS\n",
      "Total MapReduce CPU Time Spent: 3 seconds 20 msec\n",
      "OK\n",
      "Time taken: 30.51 seconds\n"
     ]
    }
   ],
   "source": [
    "%%hive\n",
    "DROP TABLE IF EXISTS pt10;\n",
    "CREATE TABLE pt10\n",
    "AS\n",
    "SELECT letra, COUNT(1)\n",
    "FROM t0 LATERAL VIEW explode(c3) adTable AS letra,numero\n",
    "GROUP BY letra;\n",
    "\n",
    "INSERT OVERWRITE DIRECTORY '/tmp/hivep10'\n",
    "ROW FORMAT DELIMITED FIELDS TERMINATED BY ','\n",
    "COLLECTION ITEMS TERMINATED BY ':'\n",
    "SELECT * FROM pt10;"
   ]
  },
  {
   "cell_type": "code",
   "execution_count": 5,
   "metadata": {},
   "outputs": [
    {
     "name": "stdout",
     "output_type": "stream",
     "text": [
      "aaa,13\n",
      "bbb,16\n",
      "ccc,23\n",
      "ddd,23\n",
      "eee,15\n",
      "fff,20\n",
      "ggg,13\n",
      "hhh,16\n",
      "iii,18\n",
      "jjj,18\n"
     ]
    }
   ],
   "source": [
    "!hdfs dfs -cat /tmp/hivep10/000000_0 "
   ]
  },
  {
   "cell_type": "code",
   "execution_count": 6,
   "metadata": {},
   "outputs": [],
   "source": [
    "!hdfs dfs -copyToLocal /tmp/hivep10/000000_0 output;"
   ]
  },
  {
   "cell_type": "code",
   "execution_count": 7,
   "metadata": {},
   "outputs": [
    {
     "name": "stdout",
     "output_type": "stream",
     "text": [
      "DROP TABLE pto10;\n",
      "OK\n",
      "Time taken: 0.283 seconds\n",
      "DROP TABLE t0;\n",
      "OK\n",
      "Time taken: 0.805 seconds\n"
     ]
    }
   ],
   "source": [
    "%%hive\n",
    "DROP TABLE pto10;\n",
    "DROP TABLE t0;"
   ]
  },
  {
   "cell_type": "code",
   "execution_count": 8,
   "metadata": {},
   "outputs": [
    {
     "name": "stdout",
     "output_type": "stream",
     "text": [
      "rm: cannot remove 'derby.log': Text file busy\n"
     ]
    }
   ],
   "source": [
    "!rm *.tsv *.log"
   ]
  },
  {
   "cell_type": "code",
   "execution_count": 9,
   "metadata": {},
   "outputs": [],
   "source": [
    "%hive_quit"
   ]
  },
  {
   "cell_type": "code",
   "execution_count": null,
   "metadata": {},
   "outputs": [],
   "source": []
  }
 ],
 "metadata": {
  "kernelspec": {
   "display_name": "Python 3",
   "language": "python",
   "name": "python3"
  },
  "language_info": {
   "codemirror_mode": {
    "name": "ipython",
    "version": 3
   },
   "file_extension": ".py",
   "mimetype": "text/x-python",
   "name": "python",
   "nbconvert_exporter": "python",
   "pygments_lexer": "ipython3",
   "version": "3.6.9"
  }
 },
 "nbformat": 4,
 "nbformat_minor": 4
}
