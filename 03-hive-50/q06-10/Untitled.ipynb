{
 "cells": [
  {
   "cell_type": "code",
   "execution_count": 1,
   "metadata": {},
   "outputs": [],
   "source": [
    "\n",
    "%load_ext bigdata"
   ]
  },
  {
   "cell_type": "code",
   "execution_count": 2,
   "metadata": {},
   "outputs": [],
   "source": [
    "%hive_start"
   ]
  },
  {
   "cell_type": "code",
   "execution_count": 3,
   "metadata": {},
   "outputs": [],
   "source": [
    "\n",
    "%timeout 300"
   ]
  },
  {
   "cell_type": "code",
   "execution_count": 4,
   "metadata": {},
   "outputs": [
    {
     "name": "stdout",
     "output_type": "stream",
     "text": [
      "Found 2 items\n",
      "drwxrwx---   - root supergroup          0 2020-01-20 22:44 /tmp/hadoop-yarn\n",
      "drwx-wx-wx   - root supergroup          0 2020-01-20 23:11 /tmp/hive\n"
     ]
    }
   ],
   "source": [
    "!hdfs dfs -ls /tmp"
   ]
  },
  {
   "cell_type": "code",
   "execution_count": 5,
   "metadata": {},
   "outputs": [],
   "source": [
    "!hdfs dfs -mkdir /tmp/hivep6"
   ]
  },
  {
   "cell_type": "code",
   "execution_count": 6,
   "metadata": {},
   "outputs": [
    {
     "name": "stdout",
     "output_type": "stream",
     "text": [
      "Found 3 items\n",
      "drwxrwx---   - root supergroup          0 2020-01-20 22:44 /tmp/hadoop-yarn\n",
      "drwx-wx-wx   - root supergroup          0 2020-01-20 23:11 /tmp/hive\n",
      "drwxr-xr-x   - root supergroup          0 2020-01-20 23:11 /tmp/hivep6\n"
     ]
    }
   ],
   "source": [
    "!hdfs dfs -ls /tmp/"
   ]
  },
  {
   "cell_type": "code",
   "execution_count": 7,
   "metadata": {},
   "outputs": [],
   "source": [
    "!hdfs dfs -copyFromLocal tbl0.csv /tmp/hivep6/"
   ]
  },
  {
   "cell_type": "code",
   "execution_count": 8,
   "metadata": {},
   "outputs": [],
   "source": [
    "!hdfs dfs -copyFromLocal tbl1.csv /tmp/hivep6/"
   ]
  },
  {
   "cell_type": "code",
   "execution_count": 9,
   "metadata": {},
   "outputs": [
    {
     "name": "stdout",
     "output_type": "stream",
     "text": [
      "Found 2 items\n",
      "-rw-r--r--   1 root supergroup        397 2020-01-20 23:11 /tmp/hivep6/tbl0.csv\n",
      "-rw-r--r--   1 root supergroup        282 2020-01-20 23:11 /tmp/hivep6/tbl1.csv\n"
     ]
    }
   ],
   "source": [
    "## Verifica que los archivos esten copiados\n",
    "## en el hdfs\n",
    "##\n",
    "!hdfs dfs -ls /tmp/hivep6"
   ]
  },
  {
   "cell_type": "code",
   "execution_count": 10,
   "metadata": {},
   "outputs": [
    {
     "name": "stdout",
     "output_type": "stream",
     "text": [
      "DROP TABLE IF EXISTS tbl0;\n",
      "OK\n",
      "Time taken: 8.921 seconds\n",
      "CREATE TABLE tbl0 (\n",
      "    c1 INT,\n",
      "    c2 STRING,\n",
      "    c3 INT,\n",
      "    c4 DATE,\n",
      "    c5 ARRAY<CHAR(1)>, \n",
      "    c6 MAP<STRING, INT>\n",
      ")\n",
      "ROW FORMAT DELIMITED \n",
      "FIELDS TERMINATED BY ','\n",
      "COLLECTION ITEMS TERMINATED BY ':'\n",
      "MAP KEYS TERMINATED BY '#'\n",
      "LINES TERMINATED BY '\\n';\n",
      "OK\n",
      "Time taken: 5.794 seconds\n",
      "LOAD DATA LOCAL INPATH 'tbl0.csv' INTO TABLE tbl0;\n",
      "Loading data to table default.tbl0\n",
      "OK\n",
      "Time taken: 2.718 seconds\n"
     ]
    }
   ],
   "source": [
    "%%hive\n",
    "DROP TABLE IF EXISTS tbl0;\n",
    "CREATE TABLE tbl0 (\n",
    "    c1 INT,\n",
    "    c2 STRING,\n",
    "    c3 INT,\n",
    "    c4 DATE,\n",
    "    c5 ARRAY<CHAR(1)>, \n",
    "    c6 MAP<STRING, INT>\n",
    ")\n",
    "ROW FORMAT DELIMITED \n",
    "FIELDS TERMINATED BY ','\n",
    "COLLECTION ITEMS TERMINATED BY ':'\n",
    "MAP KEYS TERMINATED BY '#'\n",
    "LINES TERMINATED BY '\\n';\n",
    "LOAD DATA LOCAL INPATH 'tbl0.csv' INTO TABLE tbl0;"
   ]
  },
  {
   "cell_type": "code",
   "execution_count": 12,
   "metadata": {},
   "outputs": [
    {
     "name": "stdout",
     "output_type": "stream",
     "text": [
      "SHOW TBLPROPERTIES tbl0;\n",
      "OK\n",
      "numFiles\t1\n",
      "numRows\t0\n",
      "rawDataSize\t0\n",
      "totalSize\t397\n",
      "transient_lastDdlTime\t1579561953\n",
      "Time taken: 0.103 seconds, Fetched: 5 row(s)\n"
     ]
    }
   ],
   "source": [
    "%%hive\n",
    "SHOW TBLPROPERTIES tbl0;"
   ]
  },
  {
   "cell_type": "code",
   "execution_count": 13,
   "metadata": {},
   "outputs": [
    {
     "name": "stdout",
     "output_type": "stream",
     "text": [
      "SELECT * FROM tbl0;\n",
      "OK\n",
      "1\tD\t4\t2016-06-25\t[\"a\",\"e\",\"c\",\"d\"]\t{\"bb\":10,\"dd\":20,\"cc\":40}\n",
      "2\tC\t4\t2015-05-14\t[\"a\",\"c\"]\t{\"dd\":40,\"bb\":20,\"cc\":10}\n",
      "3\tD\t6\t2014-12-26\t[\"b\",\"d\"]\t{\"aa\":10,\"bb\":40}\n",
      "4\tD\t5\t2016-06-25\t[\"a\",\"c\",\"e\",\"b\",\"d\"]\t{\"bb\":40,\"dd\":20,\"aa\":10,\"cc\":30}\n",
      "5\tC\t7\t2016-05-23\t[\"d\",\"e\",\"c\"]\t{\"cc\":10,\"aa\":20}\n",
      "6\tA\t2\t2018-06-14\t[\"a\",\"d\"]\t{\"aa\":20}\n",
      "7\tB\t3\t2014-12-22\t[\"a\",\"e\",\"d\"]\t{\"cc\":20}\n",
      "8\tC\t6\t2015-08-20\t[\"d\",\"a\",\"c\",\"e\"]\t{\"cc\":10,\"aa\":20}\n",
      "9\tB\t3\t2017-12-08\t[\"b\",\"a\",\"c\",\"e\"]\t{\"cc\":40,\"dd\":10,\"aa\":30,\"bb\":20}\n",
      "10\tB\t7\t2015-07-28\t[\"c\",\"d\",\"e\",\"a\",\"b\"]\t{\"aa\":10,\"dd\":40,\"cc\":30}\n",
      "Time taken: 1.496 seconds, Fetched: 10 row(s)\n"
     ]
    }
   ],
   "source": [
    "%%hive\n",
    "SELECT * FROM tbl0;"
   ]
  },
  {
   "cell_type": "code",
   "execution_count": 56,
   "metadata": {},
   "outputs": [
    {
     "name": "stdout",
     "output_type": "stream",
     "text": [
      "DROP TABLE IF EXISTS mayus;\n",
      "OK\n",
      "Time taken: 0.145 seconds\n",
      "CREATE TABLE may\n",
      "AS\n",
      "SELECT l_may\n",
      "FROM (\n",
      "      SELECT c1,\n",
      "             collect_list(UPPER(letra)) AS l_may\n",
      "      FROM   tbl0\n",
      "      LATERAL VIEW explode(c5) tbl0 AS letra\n",
      "      GROUP BY c1\n",
      "      ) t0\n",
      ";\n",
      "WARNING: Hive-on-MR is deprecated in Hive 2 and may not be available in the future versions. Consider using a different execution engine (i.e. spark, tez) or using Hive 1.X releases.\n",
      "Query ID = root_20200121010841_21394cbb-94bf-467d-9bc2-630f8655e967\n",
      "Total jobs = 1\n",
      "Launching Job 1 out of 1\n",
      "Number of reduce tasks not specified. Estimated from input data size: 1\n",
      "In order to change the average load for a reducer (in bytes):\n",
      "  set hive.exec.reducers.bytes.per.reducer=<number>\n",
      "In order to limit the maximum number of reducers:\n",
      "  set hive.exec.reducers.max=<number>\n",
      "In order to set a constant number of reducers:\n",
      "  set mapreduce.job.reduces=<number>\n",
      "Starting Job = job_1579560102290_0015, Tracking URL = http://bc1a06738ea7:8088/proxy/application_1579560102290_0015/\n",
      "Kill Command = /usr/local/hadoop/bin/hadoop job  -kill job_1579560102290_0015\n",
      "Hadoop job information for Stage-1: number of mappers: 1; number of reducers: 1\n",
      "2020-01-21 01:08:47,465 Stage-1 map = 0%,  reduce = 0%\n",
      "2020-01-21 01:08:52,813 Stage-1 map = 100%,  reduce = 0%, Cumulative CPU 1.5 sec\n",
      "2020-01-21 01:09:02,437 Stage-1 map = 100%,  reduce = 100%, Cumulative CPU 3.49 sec\n",
      "MapReduce Total cumulative CPU time: 3 seconds 490 msec\n",
      "Ended Job = job_1579560102290_0015\n",
      "Moving data to directory hdfs://0.0.0.0:9000/user/hive/warehouse/may\n",
      "MapReduce Jobs Launched: \n",
      "Stage-Stage-1: Map: 1  Reduce: 1   Cumulative CPU: 3.49 sec   HDFS Read: 12242 HDFS Write: 135 SUCCESS\n",
      "Total MapReduce CPU Time Spent: 3 seconds 490 msec\n",
      "OK\n",
      "Time taken: 22.528 seconds\n",
      "INSERT OVERWRITE DIRECTORY '/tmp/hivep6'\n",
      "ROW FORMAT DELIMITED FIELDS TERMINATED BY ','\n",
      "COLLECTION ITEMS TERMINATED BY ':'\n",
      "SELECT * FROM may;\n",
      "WARNING: Hive-on-MR is deprecated in Hive 2 and may not be available in the future versions. Consider using a different execution engine (i.e. spark, tez) or using Hive 1.X releases.\n",
      "Query ID = root_20200121010904_535cd57f-19a7-4c9a-8857-fc07f50bc954\n",
      "Total jobs = 3\n",
      "Launching Job 1 out of 3\n",
      "Number of reduce tasks is set to 0 since there's no reduce operator\n",
      "Starting Job = job_1579560102290_0016, Tracking URL = http://bc1a06738ea7:8088/proxy/application_1579560102290_0016/\n",
      "Kill Command = /usr/local/hadoop/bin/hadoop job  -kill job_1579560102290_0016\n",
      "Hadoop job information for Stage-1: number of mappers: 1; number of reducers: 0\n",
      "2020-01-21 01:09:14,811 Stage-1 map = 0%,  reduce = 0%\n",
      "2020-01-21 01:09:19,128 Stage-1 map = 100%,  reduce = 0%, Cumulative CPU 1.2 sec\n",
      "MapReduce Total cumulative CPU time: 1 seconds 200 msec\n",
      "Ended Job = job_1579560102290_0016\n",
      "Stage-3 is selected by condition resolver.\n",
      "Stage-2 is filtered out by condition resolver.\n",
      "Stage-4 is filtered out by condition resolver.\n",
      "Moving data to directory hdfs://0.0.0.0:9000/tmp/hivep6/.hive-staging_hive_2020-01-21_01-09-04_161_5478446675004052860-1/-ext-10000\n",
      "Moving data to directory /tmp/hivep6\n",
      "MapReduce Jobs Launched: \n",
      "Stage-Stage-1: Map: 1   Cumulative CPU: 1.2 sec   HDFS Read: 3558 HDFS Write: 68 SUCCESS\n",
      "Total MapReduce CPU Time Spent: 1 seconds 200 msec\n",
      "OK\n",
      "Time taken: 17.163 seconds\n"
     ]
    }
   ],
   "source": [
    "%%hive\n",
    "\n",
    "DROP TABLE IF EXISTS may;\n",
    "\n",
    "CREATE TABLE may\n",
    "AS\n",
    "SELECT l_may\n",
    "FROM (\n",
    "      SELECT c1,\n",
    "             collect_list(UPPER(letra)) AS l_may\n",
    "      FROM   tbl0\n",
    "      LATERAL VIEW explode(c5) tbl0 AS letra\n",
    "      GROUP BY c1\n",
    "      ) t0\n",
    "\n",
    ";\n",
    "    \n",
    "INSERT OVERWRITE DIRECTORY '/tmp/hivep6'\n",
    "ROW FORMAT DELIMITED FIELDS TERMINATED BY ','\n",
    "COLLECTION ITEMS TERMINATED BY ':'\n",
    "SELECT * FROM may;"
   ]
  },
  {
   "cell_type": "code",
   "execution_count": 57,
   "metadata": {},
   "outputs": [
    {
     "name": "stdout",
     "output_type": "stream",
     "text": [
      "A:E:C:D\n",
      "A:C\n",
      "B:D\n",
      "A:C:E:B:D\n",
      "D:E:C\n",
      "A:D\n",
      "A:E:D\n",
      "D:A:C:E\n",
      "B:A:C:E\n",
      "C:D:E:A:B\n"
     ]
    }
   ],
   "source": [
    "!hdfs dfs -cat /tmp/hivep6/000000_0 "
   ]
  },
  {
   "cell_type": "code",
   "execution_count": 55,
   "metadata": {},
   "outputs": [],
   "source": [
    "!hdfs dfs -copyToLocal /tmp/hivep4/000000_0 output;"
   ]
  },
  {
   "cell_type": "code",
   "execution_count": 59,
   "metadata": {},
   "outputs": [
    {
     "name": "stdout",
     "output_type": "stream",
     "text": [
      "DROP TABLE may;\n",
      "NoViableAltException(338@[])\n",
      "\tat org.apache.hadoop.hive.ql.parse.HiveParser.statement(HiveParser.java:1300)\n",
      "\tat org.apache.hadoop.hive.ql.parse.ParseDriver.parse(ParseDriver.java:208)\n",
      "\tat org.apache.hadoop.hive.ql.parse.ParseUtils.parse(ParseUtils.java:77)\n",
      "\tat org.apache.hadoop.hive.ql.parse.ParseUtils.parse(ParseUtils.java:70)\n",
      "\tat org.apache.hadoop.hive.ql.Driver.compile(Driver.java:468)\n",
      "\tat org.apache.hadoop.hive.ql.Driver.compileInternal(Driver.java:1317)\n",
      "\tat org.apache.hadoop.hive.ql.Driver.runInternal(Driver.java:1457)\n",
      "\tat org.apache.hadoop.hive.ql.Driver.run(Driver.java:1237)\n",
      "\tat org.apache.hadoop.hive.ql.Driver.run(Driver.java:1227)\n",
      "\tat org.apache.hadoop.hive.cli.CliDriver.processLocalCmd(CliDriver.java:233)\n",
      "\tat org.apache.hadoop.hive.cli.CliDriver.processCmd(CliDriver.java:184)\n",
      "\tat org.apache.hadoop.hive.cli.CliDriver.processLine(CliDriver.java:403)\n",
      "\tat org.apache.hadoop.hive.cli.CliDriver.executeDriver(CliDriver.java:821)\n",
      "\tat org.apache.hadoop.hive.cli.CliDriver.run(CliDriver.java:759)\n",
      "\tat org.apache.hadoop.hive.cli.CliDriver.main(CliDriver.java:686)\n",
      "\tat sun.reflect.NativeMethodAccessorImpl.invoke0(Native Method)\n",
      "\tat sun.reflect.NativeMethodAccessorImpl.invoke(NativeMethodAccessorImpl.java:62)\n",
      "\tat sun.reflect.DelegatingMethodAccessorImpl.invoke(DelegatingMethodAccessorImpl.java:43)\n",
      "\tat java.lang.reflect.Method.invoke(Method.java:498)\n",
      "\tat org.apache.hadoop.util.RunJar.run(RunJar.java:239)\n",
      "\tat org.apache.hadoop.util.RunJar.main(RunJar.java:153)\n",
      "FAILED: ParseException line 1:0 cannot recognize input near '%' 'hive_quit' 'DROP'\n",
      "%hive_quit\n"
     ]
    }
   ],
   "source": [
    "%%hive\n",
    "DROP TABLE may;\n",
    "%hive_quit"
   ]
  },
  {
   "cell_type": "code",
   "execution_count": null,
   "metadata": {},
   "outputs": [],
   "source": []
  }
 ],
 "metadata": {
  "kernelspec": {
   "display_name": "Python 3",
   "language": "python",
   "name": "python3"
  },
  "language_info": {
   "codemirror_mode": {
    "name": "ipython",
    "version": 3
   },
   "file_extension": ".py",
   "mimetype": "text/x-python",
   "name": "python",
   "nbconvert_exporter": "python",
   "pygments_lexer": "ipython3",
   "version": "3.6.9"
  }
 },
 "nbformat": 4,
 "nbformat_minor": 4
}
