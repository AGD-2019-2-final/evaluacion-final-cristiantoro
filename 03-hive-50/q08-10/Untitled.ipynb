{
 "cells": [
  {
   "cell_type": "code",
   "execution_count": 1,
   "metadata": {},
   "outputs": [],
   "source": [
    "%load_ext bigdata\n",
    "%hive_start\n",
    "%timeout 300"
   ]
  },
  {
   "cell_type": "code",
   "execution_count": 2,
   "metadata": {},
   "outputs": [
    {
     "name": "stdout",
     "output_type": "stream",
     "text": [
      "Found 2 items\n",
      "drwxrwx---   - root supergroup          0 2020-02-11 03:08 /tmp/hadoop-yarn\n",
      "drwxrwxrwx   - root supergroup          0 2020-02-11 03:10 /tmp/hive\n",
      "Found 3 items\n",
      "drwxrwx---   - root supergroup          0 2020-02-11 03:08 /tmp/hadoop-yarn\n",
      "drwxrwxrwx   - root supergroup          0 2020-02-11 03:10 /tmp/hive\n",
      "drwxr-xr-x   - root supergroup          0 2020-02-11 03:11 /tmp/hivep8\n"
     ]
    }
   ],
   "source": [
    "!hdfs dfs -ls /tmp\n",
    "!hdfs dfs -mkdir /tmp/hivep8\n",
    "!hdfs dfs -ls /tmp/\n",
    "!hdfs dfs -copyFromLocal tbl0.csv /tmp/hivep8/\n",
    "!hdfs dfs -copyFromLocal tbl1.csv /tmp/hivep8/"
   ]
  },
  {
   "cell_type": "code",
   "execution_count": 3,
   "metadata": {},
   "outputs": [
    {
     "name": "stdout",
     "output_type": "stream",
     "text": [
      "DROP TABLE IF EXISTS tbl0;\n",
      "OK\n",
      "Time taken: 24.118 seconds\n",
      "CREATE TABLE tbl0 (\n",
      "    c1 INT,\n",
      "    c2 STRING,\n",
      "    c3 INT,\n",
      "    c4 DATE,\n",
      "    c5 ARRAY<CHAR(1)>, \n",
      "    c6 MAP<STRING, INT>\n",
      ")\n",
      "ROW FORMAT DELIMITED \n",
      "FIELDS TERMINATED BY ','\n",
      "COLLECTION ITEMS TERMINATED BY ':'\n",
      "MAP KEYS TERMINATED BY '#'\n",
      "LINES TERMINATED BY '\\n';\n",
      "OK\n",
      "Time taken: 1.724 seconds\n",
      "LOAD DATA LOCAL INPATH 'tbl0.csv' INTO TABLE tbl0;\n",
      "Loading data to table default.tbl0\n",
      "OK\n",
      "Time taken: 2.906 seconds\n"
     ]
    }
   ],
   "source": [
    "%%hive\n",
    "DROP TABLE IF EXISTS tbl0;\n",
    "CREATE TABLE tbl0 (\n",
    "    c1 INT,\n",
    "    c2 STRING,\n",
    "    c3 INT,\n",
    "    c4 DATE,\n",
    "    c5 ARRAY<CHAR(1)>, \n",
    "    c6 MAP<STRING, INT>\n",
    ")\n",
    "ROW FORMAT DELIMITED \n",
    "FIELDS TERMINATED BY ','\n",
    "COLLECTION ITEMS TERMINATED BY ':'\n",
    "MAP KEYS TERMINATED BY '#'\n",
    "LINES TERMINATED BY '\\n';\n",
    "LOAD DATA LOCAL INPATH 'tbl0.csv' INTO TABLE tbl0;"
   ]
  },
  {
   "cell_type": "code",
   "execution_count": 4,
   "metadata": {},
   "outputs": [
    {
     "name": "stdout",
     "output_type": "stream",
     "text": [
      "DROP TABLE IF EXISTS pt8;\n",
      "OK\n",
      "Time taken: 0.023 seconds\n",
      "CREATE TABLE pt8\n",
      "AS\n",
      "SELECT c2, SUM(numero)\n",
      "FROM tbl0 LATERAL VIEW explode(c6) adTable AS letra,numero\n",
      "GROUP BY c2;\n",
      "WARNING: Hive-on-MR is deprecated in Hive 2 and may not be available in the future versions. Consider using a different execution engine (i.e. spark, tez) or using Hive 1.X releases.\n",
      "Query ID = root_20200211031439_6b634dff-e625-471a-8ee4-532bb4a7f0a9\n",
      "Total jobs = 1\n",
      "Launching Job 1 out of 1\n",
      "Number of reduce tasks not specified. Estimated from input data size: 1\n",
      "In order to change the average load for a reducer (in bytes):\n",
      "  set hive.exec.reducers.bytes.per.reducer=<number>\n",
      "In order to limit the maximum number of reducers:\n",
      "  set hive.exec.reducers.max=<number>\n",
      "In order to set a constant number of reducers:\n",
      "  set mapreduce.job.reduces=<number>\n",
      "Starting Job = job_1581390426457_0001, Tracking URL = http://714a45eef6db:8088/proxy/application_1581390426457_0001/\n",
      "Kill Command = /usr/local/hadoop/bin/hadoop job  -kill job_1581390426457_0001\n",
      "Hadoop job information for Stage-1: number of mappers: 1; number of reducers: 1\n",
      "2020-02-11 03:15:11,397 Stage-1 map = 0%,  reduce = 0%\n",
      "2020-02-11 03:15:22,960 Stage-1 map = 100%,  reduce = 0%, Cumulative CPU 5.7 sec\n",
      "2020-02-11 03:15:34,828 Stage-1 map = 100%,  reduce = 100%, Cumulative CPU 9.55 sec\n",
      "MapReduce Total cumulative CPU time: 9 seconds 550 msec\n",
      "Ended Job = job_1581390426457_0001\n",
      "Moving data to directory hdfs://0.0.0.0:9000/user/hive/warehouse/pt8\n",
      "MapReduce Jobs Launched: \n",
      "Stage-Stage-1: Map: 1  Reduce: 1   Cumulative CPU: 9.55 sec   HDFS Read: 12354 HDFS Write: 90 SUCCESS\n",
      "Total MapReduce CPU Time Spent: 9 seconds 550 msec\n",
      "OK\n",
      "Time taken: 59.344 seconds\n",
      "INSERT OVERWRITE DIRECTORY '/tmp/hivep8'\n",
      "ROW FORMAT DELIMITED FIELDS TERMINATED BY ','\n",
      "COLLECTION ITEMS TERMINATED BY ':'\n",
      "SELECT * FROM pt8;\n",
      "WARNING: Hive-on-MR is deprecated in Hive 2 and may not be available in the future versions. Consider using a different execution engine (i.e. spark, tez) or using Hive 1.X releases.\n",
      "Query ID = root_20200211031539_954311e4-88d1-4ca2-84d2-6be2489fd25a\n",
      "Total jobs = 3\n",
      "Launching Job 1 out of 3\n",
      "Number of reduce tasks is set to 0 since there's no reduce operator\n",
      "Starting Job = job_1581390426457_0002, Tracking URL = http://714a45eef6db:8088/proxy/application_1581390426457_0002/\n",
      "Kill Command = /usr/local/hadoop/bin/hadoop job  -kill job_1581390426457_0002\n",
      "Hadoop job information for Stage-1: number of mappers: 1; number of reducers: 0\n",
      "2020-02-11 03:15:57,636 Stage-1 map = 0%,  reduce = 0%\n",
      "2020-02-11 03:16:08,528 Stage-1 map = 100%,  reduce = 0%, Cumulative CPU 3.71 sec\n",
      "MapReduce Total cumulative CPU time: 3 seconds 710 msec\n",
      "Ended Job = job_1581390426457_0002\n",
      "Stage-3 is selected by condition resolver.\n",
      "Stage-2 is filtered out by condition resolver.\n",
      "Stage-4 is filtered out by condition resolver.\n",
      "Moving data to directory hdfs://0.0.0.0:9000/tmp/hivep8/.hive-staging_hive_2020-02-11_03-15-39_169_9087567303707758158-1/-ext-10000\n",
      "Moving data to directory /tmp/hivep8\n",
      "MapReduce Jobs Launched: \n",
      "Stage-Stage-1: Map: 1   Cumulative CPU: 3.71 sec   HDFS Read: 3327 HDFS Write: 23 SUCCESS\n",
      "Total MapReduce CPU Time Spent: 3 seconds 710 msec\n",
      "OK\n",
      "Time taken: 30.809 seconds\n"
     ]
    }
   ],
   "source": [
    "%%hive\n",
    "DROP TABLE IF EXISTS pt8;\n",
    "CREATE TABLE pt8\n",
    "AS\n",
    "SELECT c2, SUM(numero)\n",
    "FROM tbl0 LATERAL VIEW explode(c6) adTable AS letra,numero\n",
    "GROUP BY c2;\n",
    "\n",
    "INSERT OVERWRITE DIRECTORY '/tmp/hivep8'\n",
    "ROW FORMAT DELIMITED FIELDS TERMINATED BY ','\n",
    "COLLECTION ITEMS TERMINATED BY ':'\n",
    "SELECT * FROM pt8;"
   ]
  },
  {
   "cell_type": "code",
   "execution_count": 5,
   "metadata": {},
   "outputs": [
    {
     "name": "stdout",
     "output_type": "stream",
     "text": [
      "A,20\n",
      "B,200\n",
      "C,130\n",
      "D,220\n"
     ]
    }
   ],
   "source": [
    "!hdfs dfs -cat /tmp/hivep8/000000_0 "
   ]
  },
  {
   "cell_type": "code",
   "execution_count": 11,
   "metadata": {},
   "outputs": [],
   "source": [
    "!hdfs dfs -copyToLocal /tmp/hivep8/000000_0 output;"
   ]
  },
  {
   "cell_type": "code",
   "execution_count": 8,
   "metadata": {},
   "outputs": [
    {
     "name": "stdout",
     "output_type": "stream",
     "text": [
      "DROP TABLE tbl0;\n",
      "FAILED: ParseException line 2:0 missing EOF at 'DROP' near 'pt8'\n",
      "DROP TABLE pt8;\n",
      "OK\n",
      "Time taken: 0.209 seconds\n"
     ]
    }
   ],
   "source": [
    "%%hive\n",
    "DROP TABLE tbl0;\n",
    "DROP TABLE pt8;"
   ]
  },
  {
   "cell_type": "code",
   "execution_count": 9,
   "metadata": {},
   "outputs": [
    {
     "name": "stdout",
     "output_type": "stream",
     "text": [
      "rm: cannot remove 'derby.log': Text file busy\n"
     ]
    }
   ],
   "source": [
    "!rm *.csv *.log"
   ]
  },
  {
   "cell_type": "code",
   "execution_count": 10,
   "metadata": {},
   "outputs": [],
   "source": [
    "%hive_quit"
   ]
  }
 ],
 "metadata": {
  "kernelspec": {
   "display_name": "Python 3",
   "language": "python",
   "name": "python3"
  },
  "language_info": {
   "codemirror_mode": {
    "name": "ipython",
    "version": 3
   },
   "file_extension": ".py",
   "mimetype": "text/x-python",
   "name": "python",
   "nbconvert_exporter": "python",
   "pygments_lexer": "ipython3",
   "version": "3.6.9"
  }
 },
 "nbformat": 4,
 "nbformat_minor": 4
}
