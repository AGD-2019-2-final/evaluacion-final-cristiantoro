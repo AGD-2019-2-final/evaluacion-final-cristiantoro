{
 "cells": [
  {
   "cell_type": "code",
   "execution_count": 50,
   "metadata": {},
   "outputs": [
    {
     "name": "stdout",
     "output_type": "stream",
     "text": [
      "Overwriting mapper.py\n"
     ]
    }
   ],
   "source": [
    "%%writefile mapper.py\n",
    "#! /usr/bin/env python\n",
    "\n",
    "##\n",
    "## Esta es la funcion que mapea la entrada a parejas (clave, valor)\n",
    "##\n",
    "import sys\n",
    "if __name__ == \"__main__\":\n",
    "\n",
    "    for line in sys.stdin:\n",
    "    # Setting some defaults\n",
    "        product_id = \"-\"\n",
    "        line = line.strip(\"\\t\")\n",
    "        splits = line.split(\",\")\n",
    "        letra=splits[0]\n",
    "        numero =splits[1]\n",
    "        col2 = int(numero)\n",
    "        sys.stdout.write(\"{}\\t{}\\t{}\\n\".format(col2,letra, col2))"
   ]
  },
  {
   "cell_type": "code",
   "execution_count": 51,
   "metadata": {},
   "outputs": [],
   "source": [
    "!chmod +x mapper.py"
   ]
  },
  {
   "cell_type": "code",
   "execution_count": 52,
   "metadata": {},
   "outputs": [
    {
     "name": "stdout",
     "output_type": "stream",
     "text": [
      "1\td\t1\n",
      "2\tc\t2\n",
      "3\ta\t3\n",
      "4\te\t4\n",
      "5\tf\t5\n",
      "6\tb\t6\n"
     ]
    }
   ],
   "source": [
    "## la salida de la función anterior es:\n",
    "!cat data.csv |python3 mapper.py | sort "
   ]
  },
  {
   "cell_type": "code",
   "execution_count": 53,
   "metadata": {},
   "outputs": [
    {
     "name": "stdout",
     "output_type": "stream",
     "text": [
      "Overwriting reducer.py\n"
     ]
    }
   ],
   "source": [
    "%%writefile reducer.py\n",
    "#!/usr/bin/env python\n",
    "\n",
    "import sys\n",
    "\n",
    "if __name__ == '__main__':\n",
    "\n",
    "    for line in sys.stdin:\n",
    "\n",
    "        col1,letra,valor1 = line.split(\"\\t\")\n",
    "        col2=int(valor1)\n",
    "\n",
    "        sys.stdout.write(\"{},{}\\n\".format(letra, col2))\n",
    "        \n"
   ]
  },
  {
   "cell_type": "code",
   "execution_count": 54,
   "metadata": {},
   "outputs": [],
   "source": [
    "\n",
    "## El archivo se hace ejecutable\n",
    "!chmod +x reducer.py"
   ]
  },
  {
   "cell_type": "code",
   "execution_count": 55,
   "metadata": {},
   "outputs": [
    {
     "name": "stdout",
     "output_type": "stream",
     "text": [
      "d,1\n",
      "c,2\n",
      "a,3\n",
      "e,4\n",
      "f,5\n",
      "b,6\n"
     ]
    }
   ],
   "source": [
    "!cat data.csv | python3 mapper.py | sort | python3 reducer.py "
   ]
  },
  {
   "cell_type": "code",
   "execution_count": null,
   "metadata": {},
   "outputs": [],
   "source": []
  },
  {
   "cell_type": "code",
   "execution_count": null,
   "metadata": {},
   "outputs": [],
   "source": []
  }
 ],
 "metadata": {
  "kernelspec": {
   "display_name": "Python 3",
   "language": "python",
   "name": "python3"
  },
  "language_info": {
   "codemirror_mode": {
    "name": "ipython",
    "version": 3
   },
   "file_extension": ".py",
   "mimetype": "text/x-python",
   "name": "python",
   "nbconvert_exporter": "python",
   "pygments_lexer": "ipython3",
   "version": "3.6.9"
  }
 },
 "nbformat": 4,
 "nbformat_minor": 4
}
