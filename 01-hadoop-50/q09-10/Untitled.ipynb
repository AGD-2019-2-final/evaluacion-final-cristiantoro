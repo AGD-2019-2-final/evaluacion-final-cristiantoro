{
 "cells": [
  {
   "cell_type": "code",
   "execution_count": 13,
   "metadata": {},
   "outputs": [
    {
     "name": "stdout",
     "output_type": "stream",
     "text": [
      "Overwriting mapper.py\n"
     ]
    }
   ],
   "source": [
    "%%writefile mapper.py\n",
    "#! /usr/bin/env python\n",
    "\n",
    "##\n",
    "## Esta es la funcion que mapea la entrada a parejas (clave, valor)\n",
    "##\n",
    "import sys\n",
    "if __name__ == \"__main__\":\n",
    "\n",
    "    for line in sys.stdin:\n",
    "    # Setting some defaults\n",
    "        product_id = \"-\"\n",
    "        line = line.strip(\"\\t\")\n",
    "        splits = line.split('   ')\n",
    "        letra=splits[0]\n",
    "        fecha =splits[1]\n",
    "        numero =int(splits[2])\n",
    "        valor1 = \"{:03.0f}\".format(numero)\n",
    "        sys.stdout.write(\"{}\\t{}\\t{}\\t{}\\n\".format(valor1,letra,fecha,numero))"
   ]
  },
  {
   "cell_type": "code",
   "execution_count": 14,
   "metadata": {},
   "outputs": [],
   "source": [
    "!chmod +x mapper.py"
   ]
  },
  {
   "cell_type": "code",
   "execution_count": 15,
   "metadata": {},
   "outputs": [
    {
     "name": "stdout",
     "output_type": "stream",
     "text": [
      "001\tC\t1994-07-27\t1\n",
      "002\tC\t1991-02-12\t2\n",
      "004\tA\t1990-07-22\t4\n",
      "005\tA\t1990-09-26\t5\n",
      "006\tB\t1997-04-09\t6\n",
      "007\tE\t1998-09-14\t7\n",
      "008\tE\t1993-01-27\t8\n",
      "009\tA\t1988-04-27\t9\n",
      "010\tA\t1990-10-06\t10\n",
      "010\tC\t1994-01-25\t10\n",
      "011\tA\t1990-09-05\t11\n",
      "011\tE\t1999-09-10\t11\n",
      "012\tA\t1990-08-31\t12\n",
      "012\tB\t1999-06-11\t12\n",
      "013\tA\t1994-10-25\t13\n",
      "013\tA\t1997-12-15\t13\n",
      "013\tB\t1998-11-22\t13\n",
      "014\tA\t1992-08-22\t14\n",
      "014\tB\t1993-03-02\t14\n",
      "014\tB\t1999-08-28\t14\n",
      "014\tE\t1991-02-18\t14\n",
      "015\tE\t1999-01-14\t15\n",
      "016\tA\t1993-05-08\t16\n",
      "016\tE\t1985-02-12\t16\n",
      "016\tE\t1990-05-03\t16\n",
      "017\tB\t1994-08-30\t17\n",
      "017\tE\t1993-07-21\t17\n",
      "018\tA\t1992-09-19\t18\n",
      "018\tE\t1990-02-09\t18\n",
      "101\tB\t1995-08-23\t101\n",
      "101\tE\t1994-02-14\t101\n",
      "121\tE\t1999-12-06\t121\n",
      "131\tB\t1999-10-21\t131\n",
      "141\tA\t1993-01-11\t141\n",
      "141\tB\t1995-09-06\t141\n",
      "151\tB\t1991-10-01\t151\n",
      "151\tC\t1994-09-09\t151\n",
      "151\tD\t1990-10-10\t151\n",
      "161\tE\t1995-04-25\t161\n",
      "181\tE\t1993-12-27\t181\n"
     ]
    }
   ],
   "source": [
    "## la salida de la función anterior es:\n",
    "!cat data.csv |python3 mapper.py | sort "
   ]
  },
  {
   "cell_type": "code",
   "execution_count": 34,
   "metadata": {},
   "outputs": [
    {
     "name": "stdout",
     "output_type": "stream",
     "text": [
      "Overwriting reducer.py\n"
     ]
    }
   ],
   "source": [
    "%%writefile reducer.py\n",
    "#!/usr/bin/env python\n",
    "\n",
    "import sys\n",
    "\n",
    "if __name__ == '__main__':\n",
    "    n=0\n",
    "    for line in sys.stdin:\n",
    "\n",
    "        col1,letra,fecha,valor1 = line.split(\"\\t\")\n",
    "        col2=int(valor1)\n",
    "        if n < 6:            \n",
    "            sys.stdout.write(\"{}   {}   {}\\n\".format(letra,fecha,col2))\n",
    "        n=n+1\n"
   ]
  },
  {
   "cell_type": "code",
   "execution_count": 35,
   "metadata": {},
   "outputs": [],
   "source": [
    "\n",
    "## El archivo se hace ejecutable\n",
    "!chmod +x reducer.py"
   ]
  },
  {
   "cell_type": "code",
   "execution_count": 36,
   "metadata": {},
   "outputs": [
    {
     "name": "stdout",
     "output_type": "stream",
     "text": [
      "C   1994-07-27   1\n",
      "C   1991-02-12   2\n",
      "A   1990-07-22   4\n",
      "A   1990-09-26   5\n",
      "B   1997-04-09   6\n",
      "E   1998-09-14   7\n"
     ]
    }
   ],
   "source": [
    "!cat data.csv | python3 mapper.py | sort | python3 reducer.py "
   ]
  },
  {
   "cell_type": "code",
   "execution_count": null,
   "metadata": {},
   "outputs": [],
   "source": []
  },
  {
   "cell_type": "code",
   "execution_count": null,
   "metadata": {},
   "outputs": [],
   "source": []
  }
 ],
 "metadata": {
  "kernelspec": {
   "display_name": "Python 3",
   "language": "python",
   "name": "python3"
  },
  "language_info": {
   "codemirror_mode": {
    "name": "ipython",
    "version": 3
   },
   "file_extension": ".py",
   "mimetype": "text/x-python",
   "name": "python",
   "nbconvert_exporter": "python",
   "pygments_lexer": "ipython3",
   "version": "3.6.9"
  }
 },
 "nbformat": 4,
 "nbformat_minor": 4
}
