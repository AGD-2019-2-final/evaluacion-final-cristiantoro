{
 "cells": [
  {
   "cell_type": "code",
   "execution_count": 1,
   "metadata": {},
   "outputs": [
    {
     "name": "stdout",
     "output_type": "stream",
     "text": [
      "Overwriting mapper.py\n"
     ]
    }
   ],
   "source": [
    "%%writefile mapper.py\n",
    "#! /usr/bin/env python\n",
    "\n",
    "##\n",
    "## Esta es la funcion que mapea la entrada a parejas (clave, valor)\n",
    "##\n",
    "import sys\n",
    "if __name__ == \"__main__\":\n",
    "\n",
    "       for line in sys.stdin:\n",
    "\n",
    "        splits = line.split(\" \")\n",
    "        letra = splits[0]\n",
    "        sys.stdout.write(\"{}\\t1\\n\".format(letra))"
   ]
  },
  {
   "cell_type": "code",
   "execution_count": 2,
   "metadata": {},
   "outputs": [],
   "source": [
    "!chmod +x mapper.py"
   ]
  },
  {
   "cell_type": "code",
   "execution_count": 3,
   "metadata": {},
   "outputs": [
    {
     "name": "stdout",
     "output_type": "stream",
     "text": [
      "A\t1\n",
      "A\t1\n",
      "A\t1\n",
      "A\t1\n",
      "A\t1\n",
      "A\t1\n",
      "A\t1\n",
      "A\t1\n",
      "A\t1\n",
      "A\t1\n",
      "A\t1\n",
      "A\t1\n",
      "B\t1\n",
      "B\t1\n",
      "B\t1\n",
      "B\t1\n",
      "B\t1\n",
      "B\t1\n",
      "B\t1\n",
      "B\t1\n",
      "B\t1\n",
      "B\t1\n",
      "C\t1\n",
      "C\t1\n",
      "C\t1\n",
      "C\t1\n",
      "D\t1\n",
      "E\t1\n",
      "E\t1\n",
      "E\t1\n",
      "E\t1\n",
      "E\t1\n",
      "E\t1\n",
      "E\t1\n",
      "E\t1\n",
      "E\t1\n",
      "E\t1\n",
      "E\t1\n",
      "E\t1\n",
      "E\t1\n"
     ]
    }
   ],
   "source": [
    "## la salida de la función anterior es:\n",
    "!cat data.csv |python3 mapper.py | sort"
   ]
  },
  {
   "cell_type": "code",
   "execution_count": 4,
   "metadata": {},
   "outputs": [
    {
     "name": "stdout",
     "output_type": "stream",
     "text": [
      "Overwriting reducer.py\n"
     ]
    }
   ],
   "source": [
    "%%writefile reducer.py\n",
    "#!/usr/bin/env python\n",
    "\n",
    "import sys\n",
    "\n",
    "##\n",
    "## Esta funcion reduce los elementos que\n",
    "## tienen la misma clave\n",
    "##\n",
    "\n",
    "if __name__ == '__main__':\n",
    "\n",
    "    letra_actual = None\n",
    "    cuenta_actual = 0\n",
    "    \n",
    "    for line in sys.stdin:\n",
    "        \n",
    "        letra, cuenta = line.split(\"\\t\")\n",
    "        \n",
    "        if not letra_actual:\n",
    "            letra_actual = letra\n",
    "            cuenta_actual += int(cuenta)\n",
    "                 \n",
    "        elif letra_actual == letra:\n",
    "            cuenta_actual += int(cuenta)\n",
    "                       \n",
    "        elif letra_actual != letra:\n",
    "            print(letra_actual + ',' +str(cuenta_actual))\n",
    "            cuenta_actual = 1\n",
    "            letra_actual = letra\n",
    "    \n",
    "    print(letra_actual + ',' +str(cuenta_actual))"
   ]
  },
  {
   "cell_type": "code",
   "execution_count": 5,
   "metadata": {},
   "outputs": [],
   "source": [
    "\n",
    "## El archivo se hace ejecutable\n",
    "!chmod +x reducer.py"
   ]
  },
  {
   "cell_type": "code",
   "execution_count": 6,
   "metadata": {},
   "outputs": [
    {
     "name": "stdout",
     "output_type": "stream",
     "text": [
      "A,12\n",
      "B,10\n",
      "C,4\n",
      "D,1\n",
      "E,13\n"
     ]
    }
   ],
   "source": [
    "!cat data.csv | python3 mapper.py | sort | python3 reducer.py "
   ]
  },
  {
   "cell_type": "code",
   "execution_count": null,
   "metadata": {},
   "outputs": [],
   "source": []
  },
  {
   "cell_type": "code",
   "execution_count": null,
   "metadata": {},
   "outputs": [],
   "source": []
  }
 ],
 "metadata": {
  "kernelspec": {
   "display_name": "Python 3",
   "language": "python",
   "name": "python3"
  },
  "language_info": {
   "codemirror_mode": {
    "name": "ipython",
    "version": 3
   },
   "file_extension": ".py",
   "mimetype": "text/x-python",
   "name": "python",
   "nbconvert_exporter": "python",
   "pygments_lexer": "ipython3",
   "version": "3.6.9"
  }
 },
 "nbformat": 4,
 "nbformat_minor": 4
}
