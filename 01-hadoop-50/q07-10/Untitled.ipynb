{
 "cells": [
  {
   "cell_type": "code",
   "execution_count": 4,
   "metadata": {},
   "outputs": [
    {
     "name": "stdout",
     "output_type": "stream",
     "text": [
      "Overwriting mapper.py\n"
     ]
    }
   ],
   "source": [
    "%%writefile mapper.py\n",
    "#! /usr/bin/env python\n",
    "\n",
    "##\n",
    "## Esta es la funcion que mapea la entrada a parejas (clave, valor)\n",
    "##\n",
    "import sys\n",
    "if __name__ == \"__main__\":\n",
    "\n",
    "      for line in sys.stdin:\n",
    "        \n",
    "        splits = line.split('   ')\n",
    "        letra = splits[0]\n",
    "        fecha = splits[1]\n",
    "        valor = int(splits[2])\n",
    "        valor1 = \"{:03.0f}\".format(valor)\n",
    "        \n",
    "        sys.stdout.write(\"{}\\t{}\\t{}\\t{}\\n\".format(letra,valor1,fecha,valor))"
   ]
  },
  {
   "cell_type": "code",
   "execution_count": 5,
   "metadata": {},
   "outputs": [],
   "source": [
    "!chmod +x mapper.py"
   ]
  },
  {
   "cell_type": "code",
   "execution_count": 6,
   "metadata": {},
   "outputs": [
    {
     "name": "stdout",
     "output_type": "stream",
     "text": [
      "A\t000\t1990-07-22\t0\n",
      "A\t008\t1990-09-26\t8\n",
      "A\t009\t1992-09-19\t9\n",
      "A\t010\t1990-10-06\t10\n",
      "A\t011\t1990-09-05\t11\n",
      "A\t012\t1990-08-31\t12\n",
      "A\t013\t1997-12-15\t13\n",
      "A\t014\t1994-10-25\t14\n",
      "A\t015\t1993-01-11\t15\n",
      "A\t016\t1992-08-22\t16\n",
      "A\t017\t1993-05-08\t17\n",
      "A\t121\t1988-04-27\t121\n",
      "B\t001\t1995-08-23\t1\n",
      "B\t009\t1991-10-01\t9\n",
      "B\t013\t1999-10-21\t13\n",
      "B\t014\t1997-04-09\t14\n",
      "B\t015\t1995-09-06\t15\n",
      "B\t016\t1993-03-02\t16\n",
      "B\t017\t1999-08-28\t17\n",
      "B\t018\t1994-08-30\t18\n",
      "B\t121\t1999-06-11\t121\n",
      "B\t131\t1998-11-22\t131\n",
      "C\t010\t1994-01-25\t10\n",
      "C\t013\t1991-02-12\t13\n",
      "C\t015\t1994-09-09\t15\n",
      "C\t104\t1994-07-27\t104\n",
      "D\t015\t1990-10-10\t15\n",
      "E\t002\t1998-09-14\t2\n",
      "E\t003\t1995-04-25\t3\n",
      "E\t004\t1993-07-21\t4\n",
      "E\t009\t1993-01-27\t9\n",
      "E\t010\t1994-02-14\t10\n",
      "E\t011\t1999-09-10\t11\n",
      "E\t012\t1999-12-06\t12\n",
      "E\t015\t1999-01-14\t15\n",
      "E\t016\t1990-05-03\t16\n",
      "E\t017\t1985-02-12\t17\n",
      "E\t018\t1990-02-09\t18\n",
      "E\t019\t1993-12-27\t19\n",
      "E\t141\t1991-02-18\t141\n"
     ]
    }
   ],
   "source": [
    "## la salida de la función anterior es:\n",
    "!cat data.csv |python3 mapper.py | sort"
   ]
  },
  {
   "cell_type": "code",
   "execution_count": 13,
   "metadata": {},
   "outputs": [
    {
     "name": "stdout",
     "output_type": "stream",
     "text": [
      "Overwriting reducer.py\n"
     ]
    }
   ],
   "source": [
    "%%writefile reducer.py\n",
    "#!/usr/bin/env python\n",
    "\n",
    "import sys\n",
    "\n",
    "if __name__ == \"__main__\": \n",
    "   \n",
    "    for line in sys.stdin:\n",
    "        letra,valor1,fecha,valor = line.split(\"\\t\")\n",
    "        valor=int(valor)\n",
    "        \n",
    "        sys.stdout.write(\"{}   {}   {}\\n\".format(letra, fecha, valor))"
   ]
  },
  {
   "cell_type": "code",
   "execution_count": 14,
   "metadata": {},
   "outputs": [],
   "source": [
    "\n",
    "## El archivo se hace ejecutable\n",
    "!chmod +x reducer.py"
   ]
  },
  {
   "cell_type": "code",
   "execution_count": 15,
   "metadata": {},
   "outputs": [
    {
     "name": "stdout",
     "output_type": "stream",
     "text": [
      "A   1990-07-22   0\n",
      "A   1990-09-26   8\n",
      "A   1992-09-19   9\n",
      "A   1990-10-06   10\n",
      "A   1990-09-05   11\n",
      "A   1990-08-31   12\n",
      "A   1997-12-15   13\n",
      "A   1994-10-25   14\n",
      "A   1993-01-11   15\n",
      "A   1992-08-22   16\n",
      "A   1993-05-08   17\n",
      "A   1988-04-27   121\n",
      "B   1995-08-23   1\n",
      "B   1991-10-01   9\n",
      "B   1999-10-21   13\n",
      "B   1997-04-09   14\n",
      "B   1995-09-06   15\n",
      "B   1993-03-02   16\n",
      "B   1999-08-28   17\n",
      "B   1994-08-30   18\n",
      "B   1999-06-11   121\n",
      "B   1998-11-22   131\n",
      "C   1994-01-25   10\n",
      "C   1991-02-12   13\n",
      "C   1994-09-09   15\n",
      "C   1994-07-27   104\n",
      "D   1990-10-10   15\n",
      "E   1998-09-14   2\n",
      "E   1995-04-25   3\n",
      "E   1993-07-21   4\n",
      "E   1993-01-27   9\n",
      "E   1994-02-14   10\n",
      "E   1999-09-10   11\n",
      "E   1999-12-06   12\n",
      "E   1999-01-14   15\n",
      "E   1990-05-03   16\n",
      "E   1985-02-12   17\n",
      "E   1990-02-09   18\n",
      "E   1993-12-27   19\n",
      "E   1991-02-18   141\n"
     ]
    }
   ],
   "source": [
    "!cat data.csv | python3 mapper.py | sort | python3 reducer.py "
   ]
  },
  {
   "cell_type": "code",
   "execution_count": null,
   "metadata": {},
   "outputs": [],
   "source": []
  },
  {
   "cell_type": "code",
   "execution_count": null,
   "metadata": {},
   "outputs": [],
   "source": []
  }
 ],
 "metadata": {
  "kernelspec": {
   "display_name": "Python 3",
   "language": "python",
   "name": "python3"
  },
  "language_info": {
   "codemirror_mode": {
    "name": "ipython",
    "version": 3
   },
   "file_extension": ".py",
   "mimetype": "text/x-python",
   "name": "python",
   "nbconvert_exporter": "python",
   "pygments_lexer": "ipython3",
   "version": "3.6.9"
  }
 },
 "nbformat": 4,
 "nbformat_minor": 4
}
