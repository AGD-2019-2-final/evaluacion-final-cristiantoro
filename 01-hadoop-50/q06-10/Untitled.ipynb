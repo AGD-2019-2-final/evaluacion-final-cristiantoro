{
 "cells": [
  {
   "cell_type": "code",
   "execution_count": 43,
   "metadata": {},
   "outputs": [
    {
     "name": "stdout",
     "output_type": "stream",
     "text": [
      "Overwriting mapper.py\n"
     ]
    }
   ],
   "source": [
    "%%writefile mapper.py\n",
    "#! /usr/bin/env python\n",
    "\n",
    "##\n",
    "## Esta es la funcion que mapea la entrada a parejas (clave, valor)\n",
    "##\n",
    "import sys\n",
    "if __name__ == \"__main__\":\n",
    "\n",
    "      for line in sys.stdin:\n",
    "        \n",
    "        splits = line.split('   ')\n",
    "        letra = splits[0]\n",
    "        num = splits[2]\n",
    "        valor = float(num)\n",
    "        valor1 = \"{:03.0f}\".format(valor)\n",
    "        \n",
    "        sys.stdout.write(\"{}\\t{}\\n\".format(letra,valor,fecha,valor))"
   ]
  },
  {
   "cell_type": "code",
   "execution_count": 44,
   "metadata": {},
   "outputs": [],
   "source": [
    "!chmod +x mapper.py"
   ]
  },
  {
   "cell_type": "code",
   "execution_count": 45,
   "metadata": {},
   "outputs": [
    {
     "name": "stdout",
     "output_type": "stream",
     "text": [
      "Traceback (most recent call last):\n",
      "  File \"mapper.py\", line 17, in <module>\n",
      "    sys.stdout.write(\"{}\\t{}\\n\".format(letra,valor,fecha,valor))\n",
      "NameError: name 'fecha' is not defined\n"
     ]
    }
   ],
   "source": [
    "## la salida de la función anterior es:\n",
    "!cat data.csv |python3 mapper.py | sort"
   ]
  },
  {
   "cell_type": "code",
   "execution_count": 33,
   "metadata": {},
   "outputs": [
    {
     "name": "stdout",
     "output_type": "stream",
     "text": [
      "Overwriting reducer.py\n"
     ]
    }
   ],
   "source": [
    "%%writefile reducer.py\n",
    "#!/usr/bin/env python\n",
    "\n",
    "import sys\n",
    "\n",
    "if __name__ == \"__main__\":\n",
    "    \n",
    "    letra_actual = None\n",
    "    mayor_actual = 0\n",
    "    menor_actual = 0\n",
    "       \n",
    "    for line in sys.stdin:\n",
    "        \n",
    "        letra, valor = line.split(\"\\t\")\n",
    "        valor = float(valor)\n",
    "        \n",
    "        if not letra_actual:\n",
    "            letra_actual = letra\n",
    "            mayor_actual = valor\n",
    "            menor_actual = valor\n",
    "                 \n",
    "        elif letra_actual == letra:\n",
    "            mayor_actual = max(valor,mayor_actual)\n",
    "            menor_actual = min(valor,menor_actual)\n",
    "                       \n",
    "        elif letra_actual != letra:\n",
    "            sys.stdout.write(\"{}\\t{}\\t{}\\n\".format(letra_actual,mayor_actual,menor_actual))\n",
    "            letra_actual = letra\n",
    "            mayor_actual = valor\n",
    "            menor_actual = valor\n",
    "    \n",
    "    sys.stdout.write(\"{}\\t{}\\t{}\\n\".format(letra_actual,mayor_actual,menor_actual))"
   ]
  },
  {
   "cell_type": "code",
   "execution_count": 34,
   "metadata": {},
   "outputs": [],
   "source": [
    "\n",
    "## El archivo se hace ejecutable\n",
    "!chmod +x reducer.py"
   ]
  },
  {
   "cell_type": "code",
   "execution_count": 36,
   "metadata": {},
   "outputs": [
    {
     "name": "stdout",
     "output_type": "stream",
     "text": [
      "A\t18.4\t10.7\n",
      "B\t17.0\t10.7\n",
      "C\t15.3\t10.2\n",
      "D\t15.1\t15.1\n",
      "E\t18.8\t10.5\n"
     ]
    }
   ],
   "source": [
    "!cat data.csv | python3 mapper.py | sort | python3 reducer.py "
   ]
  },
  {
   "cell_type": "code",
   "execution_count": null,
   "metadata": {},
   "outputs": [],
   "source": []
  },
  {
   "cell_type": "code",
   "execution_count": null,
   "metadata": {},
   "outputs": [],
   "source": []
  }
 ],
 "metadata": {
  "kernelspec": {
   "display_name": "Python 3",
   "language": "python",
   "name": "python3"
  },
  "language_info": {
   "codemirror_mode": {
    "name": "ipython",
    "version": 3
   },
   "file_extension": ".py",
   "mimetype": "text/x-python",
   "name": "python",
   "nbconvert_exporter": "python",
   "pygments_lexer": "ipython3",
   "version": "3.6.9"
  }
 },
 "nbformat": 4,
 "nbformat_minor": 4
}
