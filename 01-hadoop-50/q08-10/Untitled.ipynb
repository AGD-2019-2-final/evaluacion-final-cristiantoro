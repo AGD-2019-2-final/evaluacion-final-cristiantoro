{
 "cells": [
  {
   "cell_type": "code",
   "execution_count": 1,
   "metadata": {},
   "outputs": [
    {
     "name": "stdout",
     "output_type": "stream",
     "text": [
      "Overwriting mapper.py\n"
     ]
    }
   ],
   "source": [
    "%%writefile mapper.py\n",
    "#! /usr/bin/env python\n",
    "\n",
    "##\n",
    "## Esta es la funcion que mapea la entrada a parejas (clave, valor)\n",
    "##\n",
    "import sys\n",
    "if __name__ == \"__main__\":\n",
    "\n",
    "      for line in sys.stdin:\n",
    "        \n",
    "        splits = line.split('   ')\n",
    "        letra = splits[0]\n",
    "        num = splits[2]\n",
    "        valor = float(num)\n",
    "        \n",
    "        \n",
    "        sys.stdout.write(\"{}\\t{}\\n\".format(letra,valor))"
   ]
  },
  {
   "cell_type": "code",
   "execution_count": 2,
   "metadata": {},
   "outputs": [],
   "source": [
    "!chmod +x mapper.py"
   ]
  },
  {
   "cell_type": "code",
   "execution_count": 3,
   "metadata": {},
   "outputs": [
    {
     "name": "stdout",
     "output_type": "stream",
     "text": [
      "A\t10.0\n",
      "A\t11.0\n",
      "A\t12.0\n",
      "A\t12.0\n",
      "A\t13.0\n",
      "A\t13.0\n",
      "A\t14.0\n",
      "A\t14.0\n",
      "A\t14.0\n",
      "A\t16.0\n",
      "A\t18.0\n",
      "A\t18.0\n",
      "B\t10.0\n",
      "B\t12.0\n",
      "B\t13.0\n",
      "B\t13.0\n",
      "B\t14.0\n",
      "B\t14.0\n",
      "B\t14.0\n",
      "B\t14.0\n",
      "B\t15.0\n",
      "B\t17.0\n",
      "C\t10.0\n",
      "C\t10.0\n",
      "C\t13.0\n",
      "C\t15.0\n",
      "D\t15.0\n",
      "E\t10.0\n",
      "E\t11.0\n",
      "E\t12.0\n",
      "E\t13.0\n",
      "E\t14.0\n",
      "E\t15.0\n",
      "E\t16.0\n",
      "E\t16.0\n",
      "E\t16.0\n",
      "E\t16.0\n",
      "E\t17.0\n",
      "E\t18.0\n",
      "E\t18.0\n"
     ]
    }
   ],
   "source": [
    "## la salida de la función anterior es:\n",
    "!cat data.csv |python3 mapper.py | sort"
   ]
  },
  {
   "cell_type": "code",
   "execution_count": 25,
   "metadata": {},
   "outputs": [
    {
     "name": "stdout",
     "output_type": "stream",
     "text": [
      "Overwriting reducer.py\n"
     ]
    }
   ],
   "source": [
    "%%writefile reducer.py\n",
    "#!/usr/bin/env python\n",
    "\n",
    "import sys\n",
    "\n",
    "if __name__ == '__main__':\n",
    "\n",
    "    letra_actual = None\n",
    "    suma = 0\n",
    "    promedio = 0\n",
    "    n = 1\n",
    "    \n",
    "\n",
    "    for line in sys.stdin:\n",
    "\n",
    "        letra, valor = line.split(\"\\t\")\n",
    "        valor = float(valor)\n",
    "        \n",
    "        if letra == letra_actual:\n",
    "          suma += valor\n",
    "          promedio = suma/n\n",
    "                       \n",
    "        else:\n",
    "            \n",
    "            if letra_actual is not None:\n",
    "                \n",
    "                sys.stdout.write(\"{}\\t{}\\t{}\\n\".format(letra_actual, suma, promedio))\n",
    "\n",
    "            letra_actual = letra\n",
    "            suma = valor\n",
    "            n = 1\n",
    "            promedio= suma/n\n",
    "        \n",
    "        n=n+1\n",
    "            \n",
    "    sys.stdout.write(\"{}\\t{}\\t{}\\n\".format(letra_actual, suma, promedio))"
   ]
  },
  {
   "cell_type": "code",
   "execution_count": 26,
   "metadata": {},
   "outputs": [],
   "source": [
    "\n",
    "## El archivo se hace ejecutable\n",
    "!chmod +x reducer.py"
   ]
  },
  {
   "cell_type": "code",
   "execution_count": 27,
   "metadata": {},
   "outputs": [
    {
     "name": "stdout",
     "output_type": "stream",
     "text": [
      "A\t165.0\t13.75\n",
      "B\t136.0\t13.6\n",
      "C\t48.0\t12.0\n",
      "D\t15.0\t15.0\n",
      "E\t192.0\t14.76923076923077\n"
     ]
    }
   ],
   "source": [
    "!cat data.csv | python3 mapper.py | sort | python3 reducer.py "
   ]
  },
  {
   "cell_type": "code",
   "execution_count": null,
   "metadata": {},
   "outputs": [],
   "source": []
  },
  {
   "cell_type": "code",
   "execution_count": null,
   "metadata": {},
   "outputs": [],
   "source": []
  }
 ],
 "metadata": {
  "kernelspec": {
   "display_name": "Python 3",
   "language": "python",
   "name": "python3"
  },
  "language_info": {
   "codemirror_mode": {
    "name": "ipython",
    "version": 3
   },
   "file_extension": ".py",
   "mimetype": "text/x-python",
   "name": "python",
   "nbconvert_exporter": "python",
   "pygments_lexer": "ipython3",
   "version": "3.6.9"
  }
 },
 "nbformat": 4,
 "nbformat_minor": 4
}
